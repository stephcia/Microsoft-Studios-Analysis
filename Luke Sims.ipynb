{
 "cells": [
  {
   "cell_type": "code",
   "execution_count": 3,
   "metadata": {
    "scrolled": true
   },
   "outputs": [],
   "source": [
    "import pandas as pd\n",
    "import numpy as np\n",
    "import requests\n",
    "import json\n",
    "import gzip\n",
    "import zipfile\n",
    "from datetime import datetime"
   ]
  },
  {
   "cell_type": "markdown",
   "metadata": {},
   "source": [
    "\n"
   ]
  },
  {
   "cell_type": "code",
   "execution_count": 4,
   "metadata": {},
   "outputs": [],
   "source": [
    "minfo=pd.read_csv('zippedData/rt.movie_info.tsv.gz',sep='\\t')\n",
    "reviews=pd.read_csv('zippedData/rt.reviews.tsv.gz',sep ='\\t',encoding='latin1')"
   ]
  },
  {
   "cell_type": "markdown",
   "metadata": {},
   "source": [
    "# Inspecting  - Movie Information List Cleaning!"
   ]
  },
  {
   "cell_type": "code",
   "execution_count": 5,
   "metadata": {},
   "outputs": [
    {
     "data": {
      "text/html": [
       "<div>\n",
       "<style scoped>\n",
       "    .dataframe tbody tr th:only-of-type {\n",
       "        vertical-align: middle;\n",
       "    }\n",
       "\n",
       "    .dataframe tbody tr th {\n",
       "        vertical-align: top;\n",
       "    }\n",
       "\n",
       "    .dataframe thead th {\n",
       "        text-align: right;\n",
       "    }\n",
       "</style>\n",
       "<table border=\"1\" class=\"dataframe\">\n",
       "  <thead>\n",
       "    <tr style=\"text-align: right;\">\n",
       "      <th></th>\n",
       "      <th>id</th>\n",
       "      <th>synopsis</th>\n",
       "      <th>rating</th>\n",
       "      <th>genre</th>\n",
       "      <th>director</th>\n",
       "      <th>writer</th>\n",
       "      <th>theater_date</th>\n",
       "      <th>dvd_date</th>\n",
       "      <th>currency</th>\n",
       "      <th>box_office</th>\n",
       "      <th>runtime</th>\n",
       "      <th>studio</th>\n",
       "    </tr>\n",
       "  </thead>\n",
       "  <tbody>\n",
       "    <tr>\n",
       "      <th>0</th>\n",
       "      <td>1</td>\n",
       "      <td>This gritty, fast-paced, and innovative police...</td>\n",
       "      <td>R</td>\n",
       "      <td>Action and Adventure|Classics|Drama</td>\n",
       "      <td>William Friedkin</td>\n",
       "      <td>Ernest Tidyman</td>\n",
       "      <td>Oct 9, 1971</td>\n",
       "      <td>Sep 25, 2001</td>\n",
       "      <td>NaN</td>\n",
       "      <td>NaN</td>\n",
       "      <td>104 minutes</td>\n",
       "      <td>NaN</td>\n",
       "    </tr>\n",
       "    <tr>\n",
       "      <th>1</th>\n",
       "      <td>3</td>\n",
       "      <td>New York City, not-too-distant-future: Eric Pa...</td>\n",
       "      <td>R</td>\n",
       "      <td>Drama|Science Fiction and Fantasy</td>\n",
       "      <td>David Cronenberg</td>\n",
       "      <td>David Cronenberg|Don DeLillo</td>\n",
       "      <td>Aug 17, 2012</td>\n",
       "      <td>Jan 1, 2013</td>\n",
       "      <td>$</td>\n",
       "      <td>600,000</td>\n",
       "      <td>108 minutes</td>\n",
       "      <td>Entertainment One</td>\n",
       "    </tr>\n",
       "    <tr>\n",
       "      <th>2</th>\n",
       "      <td>5</td>\n",
       "      <td>Illeana Douglas delivers a superb performance ...</td>\n",
       "      <td>R</td>\n",
       "      <td>Drama|Musical and Performing Arts</td>\n",
       "      <td>Allison Anders</td>\n",
       "      <td>Allison Anders</td>\n",
       "      <td>Sep 13, 1996</td>\n",
       "      <td>Apr 18, 2000</td>\n",
       "      <td>NaN</td>\n",
       "      <td>NaN</td>\n",
       "      <td>116 minutes</td>\n",
       "      <td>NaN</td>\n",
       "    </tr>\n",
       "    <tr>\n",
       "      <th>3</th>\n",
       "      <td>6</td>\n",
       "      <td>Michael Douglas runs afoul of a treacherous su...</td>\n",
       "      <td>R</td>\n",
       "      <td>Drama|Mystery and Suspense</td>\n",
       "      <td>Barry Levinson</td>\n",
       "      <td>Paul Attanasio|Michael Crichton</td>\n",
       "      <td>Dec 9, 1994</td>\n",
       "      <td>Aug 27, 1997</td>\n",
       "      <td>NaN</td>\n",
       "      <td>NaN</td>\n",
       "      <td>128 minutes</td>\n",
       "      <td>NaN</td>\n",
       "    </tr>\n",
       "    <tr>\n",
       "      <th>4</th>\n",
       "      <td>7</td>\n",
       "      <td>NaN</td>\n",
       "      <td>NR</td>\n",
       "      <td>Drama|Romance</td>\n",
       "      <td>Rodney Bennett</td>\n",
       "      <td>Giles Cooper</td>\n",
       "      <td>NaN</td>\n",
       "      <td>NaN</td>\n",
       "      <td>NaN</td>\n",
       "      <td>NaN</td>\n",
       "      <td>200 minutes</td>\n",
       "      <td>NaN</td>\n",
       "    </tr>\n",
       "    <tr>\n",
       "      <th>5</th>\n",
       "      <td>8</td>\n",
       "      <td>The year is 1942. As the Allies unite overseas...</td>\n",
       "      <td>PG</td>\n",
       "      <td>Drama|Kids and Family</td>\n",
       "      <td>Jay Russell</td>\n",
       "      <td>Gail Gilchriest</td>\n",
       "      <td>Mar 3, 2000</td>\n",
       "      <td>Jul 11, 2000</td>\n",
       "      <td>NaN</td>\n",
       "      <td>NaN</td>\n",
       "      <td>95 minutes</td>\n",
       "      <td>Warner Bros. Pictures</td>\n",
       "    </tr>\n",
       "    <tr>\n",
       "      <th>6</th>\n",
       "      <td>10</td>\n",
       "      <td>Some cast and crew from NBC's highly acclaimed...</td>\n",
       "      <td>PG-13</td>\n",
       "      <td>Comedy</td>\n",
       "      <td>Jake Kasdan</td>\n",
       "      <td>Mike White</td>\n",
       "      <td>Jan 11, 2002</td>\n",
       "      <td>Jun 18, 2002</td>\n",
       "      <td>$</td>\n",
       "      <td>41,032,915</td>\n",
       "      <td>82 minutes</td>\n",
       "      <td>Paramount Pictures</td>\n",
       "    </tr>\n",
       "    <tr>\n",
       "      <th>7</th>\n",
       "      <td>13</td>\n",
       "      <td>Stewart Kane, an Irishman living in the Austra...</td>\n",
       "      <td>R</td>\n",
       "      <td>Drama</td>\n",
       "      <td>Ray Lawrence</td>\n",
       "      <td>Raymond Carver|Beatrix Christian</td>\n",
       "      <td>Apr 27, 2006</td>\n",
       "      <td>Oct 2, 2007</td>\n",
       "      <td>$</td>\n",
       "      <td>224,114</td>\n",
       "      <td>123 minutes</td>\n",
       "      <td>Sony Pictures Classics</td>\n",
       "    </tr>\n",
       "    <tr>\n",
       "      <th>8</th>\n",
       "      <td>14</td>\n",
       "      <td>\"Love Ranch\" is a bittersweet love story that ...</td>\n",
       "      <td>R</td>\n",
       "      <td>Drama</td>\n",
       "      <td>Taylor Hackford</td>\n",
       "      <td>Mark Jacobson</td>\n",
       "      <td>Jun 30, 2010</td>\n",
       "      <td>Nov 9, 2010</td>\n",
       "      <td>$</td>\n",
       "      <td>134,904</td>\n",
       "      <td>117 minutes</td>\n",
       "      <td>NaN</td>\n",
       "    </tr>\n",
       "    <tr>\n",
       "      <th>9</th>\n",
       "      <td>15</td>\n",
       "      <td>When a diamond expedition in the Congo is lost...</td>\n",
       "      <td>PG-13</td>\n",
       "      <td>Action and Adventure|Mystery and Suspense|Scie...</td>\n",
       "      <td>Frank Marshall</td>\n",
       "      <td>John Patrick Shanley</td>\n",
       "      <td>Jun 9, 1995</td>\n",
       "      <td>Jul 27, 1999</td>\n",
       "      <td>NaN</td>\n",
       "      <td>NaN</td>\n",
       "      <td>108 minutes</td>\n",
       "      <td>NaN</td>\n",
       "    </tr>\n",
       "  </tbody>\n",
       "</table>\n",
       "</div>"
      ],
      "text/plain": [
       "   id                                           synopsis rating  \\\n",
       "0   1  This gritty, fast-paced, and innovative police...      R   \n",
       "1   3  New York City, not-too-distant-future: Eric Pa...      R   \n",
       "2   5  Illeana Douglas delivers a superb performance ...      R   \n",
       "3   6  Michael Douglas runs afoul of a treacherous su...      R   \n",
       "4   7                                                NaN     NR   \n",
       "5   8  The year is 1942. As the Allies unite overseas...     PG   \n",
       "6  10  Some cast and crew from NBC's highly acclaimed...  PG-13   \n",
       "7  13  Stewart Kane, an Irishman living in the Austra...      R   \n",
       "8  14  \"Love Ranch\" is a bittersweet love story that ...      R   \n",
       "9  15  When a diamond expedition in the Congo is lost...  PG-13   \n",
       "\n",
       "                                               genre          director  \\\n",
       "0                Action and Adventure|Classics|Drama  William Friedkin   \n",
       "1                  Drama|Science Fiction and Fantasy  David Cronenberg   \n",
       "2                  Drama|Musical and Performing Arts    Allison Anders   \n",
       "3                         Drama|Mystery and Suspense    Barry Levinson   \n",
       "4                                      Drama|Romance    Rodney Bennett   \n",
       "5                              Drama|Kids and Family       Jay Russell   \n",
       "6                                             Comedy       Jake Kasdan   \n",
       "7                                              Drama      Ray Lawrence   \n",
       "8                                              Drama   Taylor Hackford   \n",
       "9  Action and Adventure|Mystery and Suspense|Scie...    Frank Marshall   \n",
       "\n",
       "                             writer  theater_date      dvd_date currency  \\\n",
       "0                    Ernest Tidyman   Oct 9, 1971  Sep 25, 2001      NaN   \n",
       "1      David Cronenberg|Don DeLillo  Aug 17, 2012   Jan 1, 2013        $   \n",
       "2                    Allison Anders  Sep 13, 1996  Apr 18, 2000      NaN   \n",
       "3   Paul Attanasio|Michael Crichton   Dec 9, 1994  Aug 27, 1997      NaN   \n",
       "4                      Giles Cooper           NaN           NaN      NaN   \n",
       "5                   Gail Gilchriest   Mar 3, 2000  Jul 11, 2000      NaN   \n",
       "6                        Mike White  Jan 11, 2002  Jun 18, 2002        $   \n",
       "7  Raymond Carver|Beatrix Christian  Apr 27, 2006   Oct 2, 2007        $   \n",
       "8                     Mark Jacobson  Jun 30, 2010   Nov 9, 2010        $   \n",
       "9              John Patrick Shanley   Jun 9, 1995  Jul 27, 1999      NaN   \n",
       "\n",
       "   box_office      runtime                  studio  \n",
       "0         NaN  104 minutes                     NaN  \n",
       "1     600,000  108 minutes       Entertainment One  \n",
       "2         NaN  116 minutes                     NaN  \n",
       "3         NaN  128 minutes                     NaN  \n",
       "4         NaN  200 minutes                     NaN  \n",
       "5         NaN   95 minutes   Warner Bros. Pictures  \n",
       "6  41,032,915   82 minutes      Paramount Pictures  \n",
       "7     224,114  123 minutes  Sony Pictures Classics  \n",
       "8     134,904  117 minutes                     NaN  \n",
       "9         NaN  108 minutes                     NaN  "
      ]
     },
     "execution_count": 5,
     "metadata": {},
     "output_type": "execute_result"
    }
   ],
   "source": [
    "#A basic overview of the first 5 rows!\n",
    "minfo.head(10)"
   ]
  },
  {
   "cell_type": "code",
   "execution_count": 8,
   "metadata": {},
   "outputs": [
    {
     "data": {
      "text/plain": [
       "\"New York City, not-too-distant-future: Eric Packer, a 28 year-old finance golden boy dreaming of living in a civilization ahead of this one, watches a dark shadow cast over the firmament of the Wall Street galaxy, of which he is the uncontested king. As he is chauffeured across midtown Manhattan to get a haircut at his father's old barber, his anxious eyes are glued to the yuan's exchange rate: it is mounting against all expectations, destroying Eric's bet against it. Eric Packer is losing his empire with every tick of the clock. Meanwhile, an eruption of wild activity unfolds in the city's streets. Petrified as the threats of the real world infringe upon his cloud of virtual convictions, his paranoia intensifies during the course of his 24-hour cross-town odyssey. Packer starts to piece together clues that lead him to a most terrifying secret: his imminent assassination. -- (C) Official Site\""
      ]
     },
     "execution_count": 8,
     "metadata": {},
     "output_type": "execute_result"
    }
   ],
   "source": [
    "minfo['synopsis'][1]"
   ]
  },
  {
   "cell_type": "code",
   "execution_count": 379,
   "metadata": {},
   "outputs": [
    {
     "data": {
      "text/plain": [
       "id               int64\n",
       "synopsis        object\n",
       "rating          object\n",
       "genre           object\n",
       "director        object\n",
       "writer          object\n",
       "theater_date    object\n",
       "dvd_date        object\n",
       "currency        object\n",
       "box_office      object\n",
       "runtime         object\n",
       "studio          object\n",
       "dtype: object"
      ]
     },
     "execution_count": 379,
     "metadata": {},
     "output_type": "execute_result"
    }
   ],
   "source": [
    "minfo.dtypes"
   ]
  },
  {
   "cell_type": "code",
   "execution_count": 380,
   "metadata": {},
   "outputs": [
    {
     "data": {
      "text/plain": [
       "id                 0\n",
       "synopsis          62\n",
       "rating             3\n",
       "genre              8\n",
       "director         199\n",
       "writer           449\n",
       "theater_date     359\n",
       "dvd_date         359\n",
       "currency        1220\n",
       "box_office      1220\n",
       "runtime           30\n",
       "studio          1066\n",
       "dtype: int64"
      ]
     },
     "execution_count": 380,
     "metadata": {},
     "output_type": "execute_result"
    }
   ],
   "source": [
    "#Checking NA's in files\n",
    "minfo.isna().sum()"
   ]
  },
  {
   "cell_type": "code",
   "execution_count": 381,
   "metadata": {},
   "outputs": [
    {
     "name": "stdout",
     "output_type": "stream",
     "text": [
      "<class 'pandas.core.frame.DataFrame'>\n",
      "RangeIndex: 1560 entries, 0 to 1559\n",
      "Data columns (total 12 columns):\n",
      " #   Column        Non-Null Count  Dtype \n",
      "---  ------        --------------  ----- \n",
      " 0   id            1560 non-null   int64 \n",
      " 1   synopsis      1498 non-null   object\n",
      " 2   rating        1557 non-null   object\n",
      " 3   genre         1552 non-null   object\n",
      " 4   director      1361 non-null   object\n",
      " 5   writer        1111 non-null   object\n",
      " 6   theater_date  1201 non-null   object\n",
      " 7   dvd_date      1201 non-null   object\n",
      " 8   currency      340 non-null    object\n",
      " 9   box_office    340 non-null    object\n",
      " 10  runtime       1530 non-null   object\n",
      " 11  studio        494 non-null    object\n",
      "dtypes: int64(1), object(11)\n",
      "memory usage: 146.4+ KB\n"
     ]
    }
   ],
   "source": [
    "minfo.info()"
   ]
  },
  {
   "cell_type": "code",
   "execution_count": 382,
   "metadata": {
    "scrolled": true
   },
   "outputs": [],
   "source": [
    "#Dropping all columns both irrelevant and littered with NA's\n",
    "minfo.drop(columns = ['synopsis', 'currency', 'dvd_date', 'theater_date'], inplace=True )"
   ]
  },
  {
   "cell_type": "code",
   "execution_count": 383,
   "metadata": {},
   "outputs": [
    {
     "data": {
      "text/plain": [
       "86      1,000,000\n",
       "15      1,039,869\n",
       "809     1,110,286\n",
       "1087    1,121,000\n",
       "1213    1,149,350\n",
       "          ...    \n",
       "1554          NaN\n",
       "1556          NaN\n",
       "1557          NaN\n",
       "1558          NaN\n",
       "1559          NaN\n",
       "Name: box_office, Length: 1560, dtype: object"
      ]
     },
     "execution_count": 383,
     "metadata": {},
     "output_type": "execute_result"
    }
   ],
   "source": [
    "minfo_boxoffice= minfo['box_office']\n",
    "minfo_boxoffice.sort_values()"
   ]
  },
  {
   "cell_type": "code",
   "execution_count": null,
   "metadata": {},
   "outputs": [],
   "source": []
  },
  {
   "cell_type": "code",
   "execution_count": 386,
   "metadata": {},
   "outputs": [
    {
     "data": {
      "text/html": [
       "<div>\n",
       "<style scoped>\n",
       "    .dataframe tbody tr th:only-of-type {\n",
       "        vertical-align: middle;\n",
       "    }\n",
       "\n",
       "    .dataframe tbody tr th {\n",
       "        vertical-align: top;\n",
       "    }\n",
       "\n",
       "    .dataframe thead th {\n",
       "        text-align: right;\n",
       "    }\n",
       "</style>\n",
       "<table border=\"1\" class=\"dataframe\">\n",
       "  <thead>\n",
       "    <tr style=\"text-align: right;\">\n",
       "      <th></th>\n",
       "      <th>id</th>\n",
       "      <th>rating</th>\n",
       "      <th>genre</th>\n",
       "      <th>director</th>\n",
       "      <th>writer</th>\n",
       "      <th>box_office</th>\n",
       "      <th>runtime</th>\n",
       "      <th>studio</th>\n",
       "    </tr>\n",
       "  </thead>\n",
       "  <tbody>\n",
       "    <tr>\n",
       "      <th>1</th>\n",
       "      <td>3</td>\n",
       "      <td>R</td>\n",
       "      <td>Drama|Science Fiction and Fantasy</td>\n",
       "      <td>David Cronenberg</td>\n",
       "      <td>David Cronenberg|Don DeLillo</td>\n",
       "      <td>600,000</td>\n",
       "      <td>108 minutes</td>\n",
       "      <td>Entertainment One</td>\n",
       "    </tr>\n",
       "    <tr>\n",
       "      <th>6</th>\n",
       "      <td>10</td>\n",
       "      <td>PG-13</td>\n",
       "      <td>Comedy</td>\n",
       "      <td>Jake Kasdan</td>\n",
       "      <td>Mike White</td>\n",
       "      <td>41,032,915</td>\n",
       "      <td>82 minutes</td>\n",
       "      <td>Paramount Pictures</td>\n",
       "    </tr>\n",
       "    <tr>\n",
       "      <th>7</th>\n",
       "      <td>13</td>\n",
       "      <td>R</td>\n",
       "      <td>Drama</td>\n",
       "      <td>Ray Lawrence</td>\n",
       "      <td>Raymond Carver|Beatrix Christian</td>\n",
       "      <td>224,114</td>\n",
       "      <td>123 minutes</td>\n",
       "      <td>Sony Pictures Classics</td>\n",
       "    </tr>\n",
       "    <tr>\n",
       "      <th>15</th>\n",
       "      <td>22</td>\n",
       "      <td>R</td>\n",
       "      <td>Comedy|Drama|Mystery and Suspense</td>\n",
       "      <td>George Hickenlooper</td>\n",
       "      <td>Norman Snider</td>\n",
       "      <td>1,039,869</td>\n",
       "      <td>108 minutes</td>\n",
       "      <td>ATO Pictures</td>\n",
       "    </tr>\n",
       "    <tr>\n",
       "      <th>18</th>\n",
       "      <td>25</td>\n",
       "      <td>PG-13</td>\n",
       "      <td>Action and Adventure|Drama|Science Fiction and...</td>\n",
       "      <td>Carl Erik Rinsch</td>\n",
       "      <td>Chris Morgan|Hossein Amini</td>\n",
       "      <td>20,518,224</td>\n",
       "      <td>127 minutes</td>\n",
       "      <td>Universal Pictures</td>\n",
       "    </tr>\n",
       "    <tr>\n",
       "      <th>...</th>\n",
       "      <td>...</td>\n",
       "      <td>...</td>\n",
       "      <td>...</td>\n",
       "      <td>...</td>\n",
       "      <td>...</td>\n",
       "      <td>...</td>\n",
       "      <td>...</td>\n",
       "      <td>...</td>\n",
       "    </tr>\n",
       "    <tr>\n",
       "      <th>1530</th>\n",
       "      <td>1968</td>\n",
       "      <td>PG</td>\n",
       "      <td>Comedy|Drama</td>\n",
       "      <td>Cameron Crowe</td>\n",
       "      <td>Aline Brosh McKenna|Cameron Crowe</td>\n",
       "      <td>72,700,000</td>\n",
       "      <td>126 minutes</td>\n",
       "      <td>20th Century Fox</td>\n",
       "    </tr>\n",
       "    <tr>\n",
       "      <th>1537</th>\n",
       "      <td>1976</td>\n",
       "      <td>NR</td>\n",
       "      <td>Action and Adventure|Art House and International</td>\n",
       "      <td>Ciro Guerra</td>\n",
       "      <td>Ciro Guerra|Jacques Toulemonde Vidal</td>\n",
       "      <td>1,320,005</td>\n",
       "      <td>123 minutes</td>\n",
       "      <td>Buffalo Films</td>\n",
       "    </tr>\n",
       "    <tr>\n",
       "      <th>1541</th>\n",
       "      <td>1980</td>\n",
       "      <td>PG-13</td>\n",
       "      <td>Action and Adventure|Science Fiction and Fantasy</td>\n",
       "      <td>Joss Whedon</td>\n",
       "      <td>Joss Whedon</td>\n",
       "      <td>25,335,935</td>\n",
       "      <td>119 minutes</td>\n",
       "      <td>Universal Pictures</td>\n",
       "    </tr>\n",
       "    <tr>\n",
       "      <th>1542</th>\n",
       "      <td>1981</td>\n",
       "      <td>NR</td>\n",
       "      <td>Comedy|Drama</td>\n",
       "      <td>Gauri Shinde</td>\n",
       "      <td>Gauri Shinde</td>\n",
       "      <td>1,416,189</td>\n",
       "      <td>129 minutes</td>\n",
       "      <td>Eros Entertainment</td>\n",
       "    </tr>\n",
       "    <tr>\n",
       "      <th>1545</th>\n",
       "      <td>1985</td>\n",
       "      <td>R</td>\n",
       "      <td>Horror|Mystery and Suspense</td>\n",
       "      <td>Sebastian Gutierrez</td>\n",
       "      <td>Sebastian Gutierrez</td>\n",
       "      <td>59,371</td>\n",
       "      <td>98 minutes</td>\n",
       "      <td>IDP Distribution</td>\n",
       "    </tr>\n",
       "  </tbody>\n",
       "</table>\n",
       "<p>236 rows × 8 columns</p>\n",
       "</div>"
      ],
      "text/plain": [
       "        id rating                                              genre  \\\n",
       "1        3      R                  Drama|Science Fiction and Fantasy   \n",
       "6       10  PG-13                                             Comedy   \n",
       "7       13      R                                              Drama   \n",
       "15      22      R                  Comedy|Drama|Mystery and Suspense   \n",
       "18      25  PG-13  Action and Adventure|Drama|Science Fiction and...   \n",
       "...    ...    ...                                                ...   \n",
       "1530  1968     PG                                       Comedy|Drama   \n",
       "1537  1976     NR   Action and Adventure|Art House and International   \n",
       "1541  1980  PG-13   Action and Adventure|Science Fiction and Fantasy   \n",
       "1542  1981     NR                                       Comedy|Drama   \n",
       "1545  1985      R                        Horror|Mystery and Suspense   \n",
       "\n",
       "                 director                                writer  box_office  \\\n",
       "1        David Cronenberg          David Cronenberg|Don DeLillo     600,000   \n",
       "6             Jake Kasdan                            Mike White  41,032,915   \n",
       "7            Ray Lawrence      Raymond Carver|Beatrix Christian     224,114   \n",
       "15    George Hickenlooper                         Norman Snider   1,039,869   \n",
       "18       Carl Erik Rinsch            Chris Morgan|Hossein Amini  20,518,224   \n",
       "...                   ...                                   ...         ...   \n",
       "1530        Cameron Crowe     Aline Brosh McKenna|Cameron Crowe  72,700,000   \n",
       "1537          Ciro Guerra  Ciro Guerra|Jacques Toulemonde Vidal   1,320,005   \n",
       "1541          Joss Whedon                           Joss Whedon  25,335,935   \n",
       "1542         Gauri Shinde                          Gauri Shinde   1,416,189   \n",
       "1545  Sebastian Gutierrez                   Sebastian Gutierrez      59,371   \n",
       "\n",
       "          runtime                  studio  \n",
       "1     108 minutes       Entertainment One  \n",
       "6      82 minutes      Paramount Pictures  \n",
       "7     123 minutes  Sony Pictures Classics  \n",
       "15    108 minutes            ATO Pictures  \n",
       "18    127 minutes      Universal Pictures  \n",
       "...           ...                     ...  \n",
       "1530  126 minutes        20th Century Fox  \n",
       "1537  123 minutes           Buffalo Films  \n",
       "1541  119 minutes      Universal Pictures  \n",
       "1542  129 minutes      Eros Entertainment  \n",
       "1545   98 minutes        IDP Distribution  \n",
       "\n",
       "[236 rows x 8 columns]"
      ]
     },
     "execution_count": 386,
     "metadata": {},
     "output_type": "execute_result"
    }
   ],
   "source": [
    "minfo.dropna()"
   ]
  },
  {
   "cell_type": "code",
   "execution_count": null,
   "metadata": {},
   "outputs": [],
   "source": []
  },
  {
   "cell_type": "markdown",
   "metadata": {},
   "source": [
    "# Looking at Movie Info"
   ]
  },
  {
   "cell_type": "code",
   "execution_count": 387,
   "metadata": {},
   "outputs": [
    {
     "data": {
      "text/plain": [
       "R        521\n",
       "NR       503\n",
       "PG       240\n",
       "PG-13    235\n",
       "G         57\n",
       "NC17       1\n",
       "Name: rating, dtype: int64"
      ]
     },
     "execution_count": 387,
     "metadata": {},
     "output_type": "execute_result"
    }
   ],
   "source": [
    "minfo['rating'].value_counts()"
   ]
  },
  {
   "cell_type": "code",
   "execution_count": 388,
   "metadata": {},
   "outputs": [
    {
     "data": {
      "text/plain": [
       "1          600,000\n",
       "6       41,032,915\n",
       "7          224,114\n",
       "8          134,904\n",
       "15       1,039,869\n",
       "           ...    \n",
       "1541    25,335,935\n",
       "1542     1,416,189\n",
       "1545        59,371\n",
       "1546       794,306\n",
       "1555    33,886,034\n",
       "Name: box_office, Length: 340, dtype: object"
      ]
     },
     "execution_count": 388,
     "metadata": {},
     "output_type": "execute_result"
    }
   ],
   "source": [
    "m_box = minfo['box_office'].dropna() #Sort this\n",
    "m_box"
   ]
  },
  {
   "cell_type": "markdown",
   "metadata": {},
   "source": [
    "1. We Want to consider relationship between run time and box office\n",
    "2. Relationship between rating and box office\n",
    "3. find similar writers and directors and if larger correlation\n"
   ]
  },
  {
   "cell_type": "code",
   "execution_count": 389,
   "metadata": {},
   "outputs": [
    {
     "data": {
      "text/plain": [
       "Steven Spielberg    10\n",
       "Clint Eastwood       8\n",
       "Alfred Hitchcock     4\n",
       "Curtis Hanson        4\n",
       "William Friedkin     4\n",
       "                    ..\n",
       "John Maybury         1\n",
       "Bob Badway           1\n",
       "Michael Rhodes       1\n",
       "Heiner Carow         1\n",
       "David Koepp          1\n",
       "Name: director, Length: 1125, dtype: int64"
      ]
     },
     "execution_count": 389,
     "metadata": {},
     "output_type": "execute_result"
    }
   ],
   "source": [
    "m_dir = minfo['director']\n",
    "m_dir.value_counts()"
   ]
  },
  {
   "cell_type": "code",
   "execution_count": 390,
   "metadata": {},
   "outputs": [
    {
     "data": {
      "text/plain": [
       "Woody Allen                      4\n",
       "Jim Jarmusch                     3\n",
       "John Hughes                      3\n",
       "Sylvester Stallone               3\n",
       "Hong Sang-soo                    3\n",
       "                                ..\n",
       "Zak Penn|Ernest Cline            1\n",
       "Eric Rohmer                      1\n",
       "Paul Pender                      1\n",
       "Shawn Christensen|Jason Dolan    1\n",
       "David Koepp                      1\n",
       "Name: writer, Length: 1069, dtype: int64"
      ]
     },
     "execution_count": 390,
     "metadata": {},
     "output_type": "execute_result"
    }
   ],
   "source": [
    "m_writ = minfo['writer']\n",
    "m_writ.value_counts()"
   ]
  },
  {
   "cell_type": "code",
   "execution_count": 391,
   "metadata": {},
   "outputs": [
    {
     "data": {
      "text/plain": [
       "90 minutes     72\n",
       "95 minutes     66\n",
       "100 minutes    51\n",
       "93 minutes     47\n",
       "96 minutes     43\n",
       "               ..\n",
       "171 minutes     1\n",
       "64 minutes      1\n",
       "159 minutes     1\n",
       "183 minutes     1\n",
       "166 minutes     1\n",
       "Name: runtime, Length: 142, dtype: int64"
      ]
     },
     "execution_count": 391,
     "metadata": {},
     "output_type": "execute_result"
    }
   ],
   "source": [
    "minfo['runtime'].value_counts()"
   ]
  },
  {
   "cell_type": "code",
   "execution_count": 392,
   "metadata": {},
   "outputs": [
    {
     "data": {
      "text/plain": [
       "Drama                                                                                                                151\n",
       "Comedy                                                                                                               110\n",
       "Comedy|Drama                                                                                                          80\n",
       "Drama|Mystery and Suspense                                                                                            67\n",
       "Art House and International|Drama                                                                                     62\n",
       "                                                                                                                    ... \n",
       "Classics|Documentary|Drama|Romance                                                                                     1\n",
       "Action and Adventure|Art House and International|Drama|Faith and Spirituality                                          1\n",
       "Drama|Science Fiction and Fantasy|Western                                                                              1\n",
       "Comedy|Horror|Mystery and Suspense                                                                                     1\n",
       "Art House and International|Classics|Comedy|Drama|Musical and Performing Arts|Science Fiction and Fantasy|Romance      1\n",
       "Name: genre, Length: 299, dtype: int64"
      ]
     },
     "execution_count": 392,
     "metadata": {},
     "output_type": "execute_result"
    }
   ],
   "source": [
    "m_genre = minfo['genre']\n",
    "m_genre.value_counts()\n",
    "\n",
    "#parsing through the mult titles"
   ]
  },
  {
   "cell_type": "code",
   "execution_count": 393,
   "metadata": {},
   "outputs": [
    {
     "data": {
      "text/html": [
       "<div>\n",
       "<style scoped>\n",
       "    .dataframe tbody tr th:only-of-type {\n",
       "        vertical-align: middle;\n",
       "    }\n",
       "\n",
       "    .dataframe tbody tr th {\n",
       "        vertical-align: top;\n",
       "    }\n",
       "\n",
       "    .dataframe thead th {\n",
       "        text-align: right;\n",
       "    }\n",
       "</style>\n",
       "<table border=\"1\" class=\"dataframe\">\n",
       "  <thead>\n",
       "    <tr style=\"text-align: right;\">\n",
       "      <th></th>\n",
       "      <th>id</th>\n",
       "      <th>rating</th>\n",
       "      <th>genre</th>\n",
       "      <th>director</th>\n",
       "      <th>writer</th>\n",
       "      <th>box_office</th>\n",
       "      <th>runtime</th>\n",
       "      <th>studio</th>\n",
       "    </tr>\n",
       "  </thead>\n",
       "  <tbody>\n",
       "    <tr>\n",
       "      <th>0</th>\n",
       "      <td>1</td>\n",
       "      <td>R</td>\n",
       "      <td>Action and Adventure|Classics|Drama</td>\n",
       "      <td>William Friedkin</td>\n",
       "      <td>Ernest Tidyman</td>\n",
       "      <td>NaN</td>\n",
       "      <td>104 minutes</td>\n",
       "      <td>NaN</td>\n",
       "    </tr>\n",
       "    <tr>\n",
       "      <th>1</th>\n",
       "      <td>3</td>\n",
       "      <td>R</td>\n",
       "      <td>Drama|Science Fiction and Fantasy</td>\n",
       "      <td>David Cronenberg</td>\n",
       "      <td>David Cronenberg|Don DeLillo</td>\n",
       "      <td>600,000</td>\n",
       "      <td>108 minutes</td>\n",
       "      <td>Entertainment One</td>\n",
       "    </tr>\n",
       "    <tr>\n",
       "      <th>2</th>\n",
       "      <td>5</td>\n",
       "      <td>R</td>\n",
       "      <td>Drama|Musical and Performing Arts</td>\n",
       "      <td>Allison Anders</td>\n",
       "      <td>Allison Anders</td>\n",
       "      <td>NaN</td>\n",
       "      <td>116 minutes</td>\n",
       "      <td>NaN</td>\n",
       "    </tr>\n",
       "    <tr>\n",
       "      <th>3</th>\n",
       "      <td>6</td>\n",
       "      <td>R</td>\n",
       "      <td>Drama|Mystery and Suspense</td>\n",
       "      <td>Barry Levinson</td>\n",
       "      <td>Paul Attanasio|Michael Crichton</td>\n",
       "      <td>NaN</td>\n",
       "      <td>128 minutes</td>\n",
       "      <td>NaN</td>\n",
       "    </tr>\n",
       "    <tr>\n",
       "      <th>4</th>\n",
       "      <td>7</td>\n",
       "      <td>NR</td>\n",
       "      <td>Drama|Romance</td>\n",
       "      <td>Rodney Bennett</td>\n",
       "      <td>Giles Cooper</td>\n",
       "      <td>NaN</td>\n",
       "      <td>200 minutes</td>\n",
       "      <td>NaN</td>\n",
       "    </tr>\n",
       "  </tbody>\n",
       "</table>\n",
       "</div>"
      ],
      "text/plain": [
       "   id rating                                genre          director  \\\n",
       "0   1      R  Action and Adventure|Classics|Drama  William Friedkin   \n",
       "1   3      R    Drama|Science Fiction and Fantasy  David Cronenberg   \n",
       "2   5      R    Drama|Musical and Performing Arts    Allison Anders   \n",
       "3   6      R           Drama|Mystery and Suspense    Barry Levinson   \n",
       "4   7     NR                        Drama|Romance    Rodney Bennett   \n",
       "\n",
       "                            writer box_office      runtime             studio  \n",
       "0                   Ernest Tidyman        NaN  104 minutes                NaN  \n",
       "1     David Cronenberg|Don DeLillo    600,000  108 minutes  Entertainment One  \n",
       "2                   Allison Anders        NaN  116 minutes                NaN  \n",
       "3  Paul Attanasio|Michael Crichton        NaN  128 minutes                NaN  \n",
       "4                     Giles Cooper        NaN  200 minutes                NaN  "
      ]
     },
     "execution_count": 393,
     "metadata": {},
     "output_type": "execute_result"
    }
   ],
   "source": [
    "minfo.head()"
   ]
  },
  {
   "cell_type": "markdown",
   "metadata": {},
   "source": [
    "# Cleaning Movie Info"
   ]
  },
  {
   "cell_type": "code",
   "execution_count": 394,
   "metadata": {},
   "outputs": [],
   "source": [
    "minfo['writer'] = minfo['writer'].str.replace('|', ' ')"
   ]
  },
  {
   "cell_type": "code",
   "execution_count": 395,
   "metadata": {},
   "outputs": [
    {
     "data": {
      "text/html": [
       "<div>\n",
       "<style scoped>\n",
       "    .dataframe tbody tr th:only-of-type {\n",
       "        vertical-align: middle;\n",
       "    }\n",
       "\n",
       "    .dataframe tbody tr th {\n",
       "        vertical-align: top;\n",
       "    }\n",
       "\n",
       "    .dataframe thead th {\n",
       "        text-align: right;\n",
       "    }\n",
       "</style>\n",
       "<table border=\"1\" class=\"dataframe\">\n",
       "  <thead>\n",
       "    <tr style=\"text-align: right;\">\n",
       "      <th></th>\n",
       "      <th>id</th>\n",
       "      <th>rating</th>\n",
       "      <th>genre</th>\n",
       "      <th>director</th>\n",
       "      <th>writer</th>\n",
       "      <th>box_office</th>\n",
       "      <th>runtime</th>\n",
       "      <th>studio</th>\n",
       "    </tr>\n",
       "  </thead>\n",
       "  <tbody>\n",
       "    <tr>\n",
       "      <th>0</th>\n",
       "      <td>1</td>\n",
       "      <td>R</td>\n",
       "      <td>Action and Adventure|Classics|Drama</td>\n",
       "      <td>William Friedkin</td>\n",
       "      <td>Ernest Tidyman</td>\n",
       "      <td>NaN</td>\n",
       "      <td>104 minutes</td>\n",
       "      <td>NaN</td>\n",
       "    </tr>\n",
       "    <tr>\n",
       "      <th>1</th>\n",
       "      <td>3</td>\n",
       "      <td>R</td>\n",
       "      <td>Drama|Science Fiction and Fantasy</td>\n",
       "      <td>David Cronenberg</td>\n",
       "      <td>David Cronenberg Don DeLillo</td>\n",
       "      <td>600,000</td>\n",
       "      <td>108 minutes</td>\n",
       "      <td>Entertainment One</td>\n",
       "    </tr>\n",
       "    <tr>\n",
       "      <th>2</th>\n",
       "      <td>5</td>\n",
       "      <td>R</td>\n",
       "      <td>Drama|Musical and Performing Arts</td>\n",
       "      <td>Allison Anders</td>\n",
       "      <td>Allison Anders</td>\n",
       "      <td>NaN</td>\n",
       "      <td>116 minutes</td>\n",
       "      <td>NaN</td>\n",
       "    </tr>\n",
       "    <tr>\n",
       "      <th>3</th>\n",
       "      <td>6</td>\n",
       "      <td>R</td>\n",
       "      <td>Drama|Mystery and Suspense</td>\n",
       "      <td>Barry Levinson</td>\n",
       "      <td>Paul Attanasio Michael Crichton</td>\n",
       "      <td>NaN</td>\n",
       "      <td>128 minutes</td>\n",
       "      <td>NaN</td>\n",
       "    </tr>\n",
       "    <tr>\n",
       "      <th>4</th>\n",
       "      <td>7</td>\n",
       "      <td>NR</td>\n",
       "      <td>Drama|Romance</td>\n",
       "      <td>Rodney Bennett</td>\n",
       "      <td>Giles Cooper</td>\n",
       "      <td>NaN</td>\n",
       "      <td>200 minutes</td>\n",
       "      <td>NaN</td>\n",
       "    </tr>\n",
       "    <tr>\n",
       "      <th>...</th>\n",
       "      <td>...</td>\n",
       "      <td>...</td>\n",
       "      <td>...</td>\n",
       "      <td>...</td>\n",
       "      <td>...</td>\n",
       "      <td>...</td>\n",
       "      <td>...</td>\n",
       "      <td>...</td>\n",
       "    </tr>\n",
       "    <tr>\n",
       "      <th>1555</th>\n",
       "      <td>1996</td>\n",
       "      <td>R</td>\n",
       "      <td>Action and Adventure|Horror|Mystery and Suspense</td>\n",
       "      <td>NaN</td>\n",
       "      <td>NaN</td>\n",
       "      <td>33,886,034</td>\n",
       "      <td>106 minutes</td>\n",
       "      <td>New Line Cinema</td>\n",
       "    </tr>\n",
       "    <tr>\n",
       "      <th>1556</th>\n",
       "      <td>1997</td>\n",
       "      <td>PG</td>\n",
       "      <td>Comedy|Science Fiction and Fantasy</td>\n",
       "      <td>Steve Barron</td>\n",
       "      <td>Terry Turner Tom Davis Dan Aykroyd Bonnie Turner</td>\n",
       "      <td>NaN</td>\n",
       "      <td>88 minutes</td>\n",
       "      <td>Paramount Vantage</td>\n",
       "    </tr>\n",
       "    <tr>\n",
       "      <th>1557</th>\n",
       "      <td>1998</td>\n",
       "      <td>G</td>\n",
       "      <td>Classics|Comedy|Drama|Musical and Performing Arts</td>\n",
       "      <td>Gordon Douglas</td>\n",
       "      <td>NaN</td>\n",
       "      <td>NaN</td>\n",
       "      <td>111 minutes</td>\n",
       "      <td>NaN</td>\n",
       "    </tr>\n",
       "    <tr>\n",
       "      <th>1558</th>\n",
       "      <td>1999</td>\n",
       "      <td>PG</td>\n",
       "      <td>Comedy|Drama|Kids and Family|Sports and Fitness</td>\n",
       "      <td>David Mickey Evans</td>\n",
       "      <td>David Mickey Evans Robert Gunter</td>\n",
       "      <td>NaN</td>\n",
       "      <td>101 minutes</td>\n",
       "      <td>NaN</td>\n",
       "    </tr>\n",
       "    <tr>\n",
       "      <th>1559</th>\n",
       "      <td>2000</td>\n",
       "      <td>R</td>\n",
       "      <td>Action and Adventure|Art House and Internation...</td>\n",
       "      <td>NaN</td>\n",
       "      <td>Luc Besson</td>\n",
       "      <td>NaN</td>\n",
       "      <td>94 minutes</td>\n",
       "      <td>Columbia Pictures</td>\n",
       "    </tr>\n",
       "  </tbody>\n",
       "</table>\n",
       "<p>1560 rows × 8 columns</p>\n",
       "</div>"
      ],
      "text/plain": [
       "        id rating                                              genre  \\\n",
       "0        1      R                Action and Adventure|Classics|Drama   \n",
       "1        3      R                  Drama|Science Fiction and Fantasy   \n",
       "2        5      R                  Drama|Musical and Performing Arts   \n",
       "3        6      R                         Drama|Mystery and Suspense   \n",
       "4        7     NR                                      Drama|Romance   \n",
       "...    ...    ...                                                ...   \n",
       "1555  1996      R   Action and Adventure|Horror|Mystery and Suspense   \n",
       "1556  1997     PG                 Comedy|Science Fiction and Fantasy   \n",
       "1557  1998      G  Classics|Comedy|Drama|Musical and Performing Arts   \n",
       "1558  1999     PG    Comedy|Drama|Kids and Family|Sports and Fitness   \n",
       "1559  2000      R  Action and Adventure|Art House and Internation...   \n",
       "\n",
       "                director                                            writer  \\\n",
       "0       William Friedkin                                    Ernest Tidyman   \n",
       "1       David Cronenberg                      David Cronenberg Don DeLillo   \n",
       "2         Allison Anders                                    Allison Anders   \n",
       "3         Barry Levinson                   Paul Attanasio Michael Crichton   \n",
       "4         Rodney Bennett                                      Giles Cooper   \n",
       "...                  ...                                               ...   \n",
       "1555                 NaN                                               NaN   \n",
       "1556        Steve Barron  Terry Turner Tom Davis Dan Aykroyd Bonnie Turner   \n",
       "1557      Gordon Douglas                                               NaN   \n",
       "1558  David Mickey Evans                  David Mickey Evans Robert Gunter   \n",
       "1559                 NaN                                        Luc Besson   \n",
       "\n",
       "      box_office      runtime             studio  \n",
       "0            NaN  104 minutes                NaN  \n",
       "1        600,000  108 minutes  Entertainment One  \n",
       "2            NaN  116 minutes                NaN  \n",
       "3            NaN  128 minutes                NaN  \n",
       "4            NaN  200 minutes                NaN  \n",
       "...          ...          ...                ...  \n",
       "1555  33,886,034  106 minutes    New Line Cinema  \n",
       "1556         NaN   88 minutes  Paramount Vantage  \n",
       "1557         NaN  111 minutes                NaN  \n",
       "1558         NaN  101 minutes                NaN  \n",
       "1559         NaN   94 minutes  Columbia Pictures  \n",
       "\n",
       "[1560 rows x 8 columns]"
      ]
     },
     "execution_count": 395,
     "metadata": {},
     "output_type": "execute_result"
    }
   ],
   "source": [
    "minfo"
   ]
  },
  {
   "cell_type": "markdown",
   "metadata": {},
   "source": [
    "# Inspecting at Reviews"
   ]
  },
  {
   "cell_type": "code",
   "execution_count": 396,
   "metadata": {},
   "outputs": [
    {
     "data": {
      "text/html": [
       "<div>\n",
       "<style scoped>\n",
       "    .dataframe tbody tr th:only-of-type {\n",
       "        vertical-align: middle;\n",
       "    }\n",
       "\n",
       "    .dataframe tbody tr th {\n",
       "        vertical-align: top;\n",
       "    }\n",
       "\n",
       "    .dataframe thead th {\n",
       "        text-align: right;\n",
       "    }\n",
       "</style>\n",
       "<table border=\"1\" class=\"dataframe\">\n",
       "  <thead>\n",
       "    <tr style=\"text-align: right;\">\n",
       "      <th></th>\n",
       "      <th>id</th>\n",
       "      <th>review</th>\n",
       "      <th>rating</th>\n",
       "      <th>fresh</th>\n",
       "      <th>critic</th>\n",
       "      <th>top_critic</th>\n",
       "      <th>publisher</th>\n",
       "      <th>date</th>\n",
       "    </tr>\n",
       "  </thead>\n",
       "  <tbody>\n",
       "    <tr>\n",
       "      <th>0</th>\n",
       "      <td>3</td>\n",
       "      <td>A distinctly gallows take on contemporary fina...</td>\n",
       "      <td>3/5</td>\n",
       "      <td>fresh</td>\n",
       "      <td>PJ Nabarro</td>\n",
       "      <td>0</td>\n",
       "      <td>Patrick Nabarro</td>\n",
       "      <td>November 10, 2018</td>\n",
       "    </tr>\n",
       "    <tr>\n",
       "      <th>1</th>\n",
       "      <td>3</td>\n",
       "      <td>It's an allegory in search of a meaning that n...</td>\n",
       "      <td>NaN</td>\n",
       "      <td>rotten</td>\n",
       "      <td>Annalee Newitz</td>\n",
       "      <td>0</td>\n",
       "      <td>io9.com</td>\n",
       "      <td>May 23, 2018</td>\n",
       "    </tr>\n",
       "    <tr>\n",
       "      <th>2</th>\n",
       "      <td>3</td>\n",
       "      <td>... life lived in a bubble in financial dealin...</td>\n",
       "      <td>NaN</td>\n",
       "      <td>fresh</td>\n",
       "      <td>Sean Axmaker</td>\n",
       "      <td>0</td>\n",
       "      <td>Stream on Demand</td>\n",
       "      <td>January 4, 2018</td>\n",
       "    </tr>\n",
       "    <tr>\n",
       "      <th>3</th>\n",
       "      <td>3</td>\n",
       "      <td>Continuing along a line introduced in last yea...</td>\n",
       "      <td>NaN</td>\n",
       "      <td>fresh</td>\n",
       "      <td>Daniel Kasman</td>\n",
       "      <td>0</td>\n",
       "      <td>MUBI</td>\n",
       "      <td>November 16, 2017</td>\n",
       "    </tr>\n",
       "    <tr>\n",
       "      <th>4</th>\n",
       "      <td>3</td>\n",
       "      <td>... a perverse twist on neorealism...</td>\n",
       "      <td>NaN</td>\n",
       "      <td>fresh</td>\n",
       "      <td>NaN</td>\n",
       "      <td>0</td>\n",
       "      <td>Cinema Scope</td>\n",
       "      <td>October 12, 2017</td>\n",
       "    </tr>\n",
       "  </tbody>\n",
       "</table>\n",
       "</div>"
      ],
      "text/plain": [
       "   id                                             review rating   fresh  \\\n",
       "0   3  A distinctly gallows take on contemporary fina...    3/5   fresh   \n",
       "1   3  It's an allegory in search of a meaning that n...    NaN  rotten   \n",
       "2   3  ... life lived in a bubble in financial dealin...    NaN   fresh   \n",
       "3   3  Continuing along a line introduced in last yea...    NaN   fresh   \n",
       "4   3             ... a perverse twist on neorealism...     NaN   fresh   \n",
       "\n",
       "           critic  top_critic         publisher               date  \n",
       "0      PJ Nabarro           0   Patrick Nabarro  November 10, 2018  \n",
       "1  Annalee Newitz           0           io9.com       May 23, 2018  \n",
       "2    Sean Axmaker           0  Stream on Demand    January 4, 2018  \n",
       "3   Daniel Kasman           0              MUBI  November 16, 2017  \n",
       "4             NaN           0      Cinema Scope   October 12, 2017  "
      ]
     },
     "execution_count": 396,
     "metadata": {},
     "output_type": "execute_result"
    }
   ],
   "source": [
    "reviews.head()"
   ]
  },
  {
   "cell_type": "code",
   "execution_count": 397,
   "metadata": {},
   "outputs": [
    {
     "data": {
      "text/plain": [
       "id             int64\n",
       "review        object\n",
       "rating        object\n",
       "fresh         object\n",
       "critic        object\n",
       "top_critic     int64\n",
       "publisher     object\n",
       "date          object\n",
       "dtype: object"
      ]
     },
     "execution_count": 397,
     "metadata": {},
     "output_type": "execute_result"
    }
   ],
   "source": [
    "reviews.dtypes"
   ]
  },
  {
   "cell_type": "code",
   "execution_count": 398,
   "metadata": {},
   "outputs": [
    {
     "data": {
      "text/plain": [
       "id                0\n",
       "review         5563\n",
       "rating        13517\n",
       "fresh             0\n",
       "critic         2722\n",
       "top_critic        0\n",
       "publisher       309\n",
       "date              0\n",
       "dtype: int64"
      ]
     },
     "execution_count": 398,
     "metadata": {},
     "output_type": "execute_result"
    }
   ],
   "source": [
    "reviews.isna().sum()"
   ]
  },
  {
   "cell_type": "code",
   "execution_count": 399,
   "metadata": {},
   "outputs": [],
   "source": [
    "reviews.drop(columns = ['rating', 'review', 'critic','top_critic'], inplace=True)"
   ]
  },
  {
   "cell_type": "code",
   "execution_count": 400,
   "metadata": {
    "scrolled": true
   },
   "outputs": [
    {
     "data": {
      "text/plain": [
       "<bound method DataFrame.info of          id   fresh         publisher                date\n",
       "0         3   fresh   Patrick Nabarro   November 10, 2018\n",
       "1         3  rotten           io9.com        May 23, 2018\n",
       "2         3   fresh  Stream on Demand     January 4, 2018\n",
       "3         3   fresh              MUBI   November 16, 2017\n",
       "4         3   fresh      Cinema Scope    October 12, 2017\n",
       "...     ...     ...               ...                 ...\n",
       "54427  2000   fresh     Village Voice  September 24, 2002\n",
       "54428  2000  rotten        Zap2it.com  September 21, 2005\n",
       "54429  2000  rotten   EmanuelLevy.Com       July 17, 2005\n",
       "54430  2000  rotten    Filmcritic.com   September 7, 2003\n",
       "54431  2000   fresh      Showbizz.net   November 12, 2002\n",
       "\n",
       "[54432 rows x 4 columns]>"
      ]
     },
     "execution_count": 400,
     "metadata": {},
     "output_type": "execute_result"
    }
   ],
   "source": [
    "reviews.info"
   ]
  },
  {
   "cell_type": "code",
   "execution_count": 401,
   "metadata": {
    "scrolled": false
   },
   "outputs": [
    {
     "data": {
      "text/html": [
       "<div>\n",
       "<style scoped>\n",
       "    .dataframe tbody tr th:only-of-type {\n",
       "        vertical-align: middle;\n",
       "    }\n",
       "\n",
       "    .dataframe tbody tr th {\n",
       "        vertical-align: top;\n",
       "    }\n",
       "\n",
       "    .dataframe thead th {\n",
       "        text-align: right;\n",
       "    }\n",
       "</style>\n",
       "<table border=\"1\" class=\"dataframe\">\n",
       "  <thead>\n",
       "    <tr style=\"text-align: right;\">\n",
       "      <th></th>\n",
       "      <th>id</th>\n",
       "      <th>fresh</th>\n",
       "      <th>publisher</th>\n",
       "      <th>date</th>\n",
       "    </tr>\n",
       "  </thead>\n",
       "  <tbody>\n",
       "    <tr>\n",
       "      <th>0</th>\n",
       "      <td>3</td>\n",
       "      <td>fresh</td>\n",
       "      <td>Patrick Nabarro</td>\n",
       "      <td>November 10, 2018</td>\n",
       "    </tr>\n",
       "    <tr>\n",
       "      <th>1</th>\n",
       "      <td>3</td>\n",
       "      <td>rotten</td>\n",
       "      <td>io9.com</td>\n",
       "      <td>May 23, 2018</td>\n",
       "    </tr>\n",
       "    <tr>\n",
       "      <th>2</th>\n",
       "      <td>3</td>\n",
       "      <td>fresh</td>\n",
       "      <td>Stream on Demand</td>\n",
       "      <td>January 4, 2018</td>\n",
       "    </tr>\n",
       "    <tr>\n",
       "      <th>3</th>\n",
       "      <td>3</td>\n",
       "      <td>fresh</td>\n",
       "      <td>MUBI</td>\n",
       "      <td>November 16, 2017</td>\n",
       "    </tr>\n",
       "    <tr>\n",
       "      <th>4</th>\n",
       "      <td>3</td>\n",
       "      <td>fresh</td>\n",
       "      <td>Cinema Scope</td>\n",
       "      <td>October 12, 2017</td>\n",
       "    </tr>\n",
       "  </tbody>\n",
       "</table>\n",
       "</div>"
      ],
      "text/plain": [
       "   id   fresh         publisher               date\n",
       "0   3   fresh   Patrick Nabarro  November 10, 2018\n",
       "1   3  rotten           io9.com       May 23, 2018\n",
       "2   3   fresh  Stream on Demand    January 4, 2018\n",
       "3   3   fresh              MUBI  November 16, 2017\n",
       "4   3   fresh      Cinema Scope   October 12, 2017"
      ]
     },
     "execution_count": 401,
     "metadata": {},
     "output_type": "execute_result"
    }
   ],
   "source": [
    "reviews.head()"
   ]
  },
  {
   "cell_type": "code",
   "execution_count": 311,
   "metadata": {
    "scrolled": true
   },
   "outputs": [
    {
     "data": {
      "text/plain": [
       "count      1552\n",
       "unique      299\n",
       "top       Drama\n",
       "freq        151\n",
       "Name: genre, dtype: object"
      ]
     },
     "execution_count": 311,
     "metadata": {},
     "output_type": "execute_result"
    }
   ],
   "source": [
    "m_genre.describe()"
   ]
  },
  {
   "cell_type": "markdown",
   "metadata": {},
   "source": [
    "# Looking at Reviews"
   ]
  },
  {
   "cell_type": "code",
   "execution_count": 315,
   "metadata": {},
   "outputs": [
    {
     "data": {
      "text/plain": [
       "eFilmCritic.com                    673\n",
       "EmanuelLevy.Com                    591\n",
       "New York Times                     590\n",
       "Washington Post                    565\n",
       "Entertainment Weekly               541\n",
       "                                  ... \n",
       "Movie Guys with Jeff &amp; Dave      1\n",
       "The Jacobin                          1\n",
       "Nerve.com                            1\n",
       "CineGods.com                         1\n",
       "Elements of Madness                  1\n",
       "Name: publisher, Length: 1281, dtype: int64"
      ]
     },
     "execution_count": 315,
     "metadata": {},
     "output_type": "execute_result"
    }
   ],
   "source": [
    "pub_review = reviews['publisher']\n",
    "pub_review.value_counts()"
   ]
  },
  {
   "cell_type": "code",
   "execution_count": 317,
   "metadata": {},
   "outputs": [
    {
     "data": {
      "text/plain": [
       "fresh     33035\n",
       "rotten    21397\n",
       "Name: fresh, dtype: int64"
      ]
     },
     "execution_count": 317,
     "metadata": {},
     "output_type": "execute_result"
    }
   ],
   "source": [
    "fresh_review = reviews['fresh']\n",
    "fresh_review.value_counts()"
   ]
  },
  {
   "cell_type": "code",
   "execution_count": null,
   "metadata": {},
   "outputs": [],
   "source": []
  }
 ],
 "metadata": {
  "kernelspec": {
   "display_name": "Python (learn-env)",
   "language": "python",
   "name": "learn-env"
  },
  "language_info": {
   "codemirror_mode": {
    "name": "ipython",
    "version": 3
   },
   "file_extension": ".py",
   "mimetype": "text/x-python",
   "name": "python",
   "nbconvert_exporter": "python",
   "pygments_lexer": "ipython3",
   "version": "3.8.5"
  }
 },
 "nbformat": 4,
 "nbformat_minor": 4
}
