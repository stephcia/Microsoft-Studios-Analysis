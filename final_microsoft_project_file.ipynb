{
 "cells": [
  {
   "cell_type": "markdown",
   "metadata": {},
   "source": [
    "## Final Project Submission\n",
    "\n",
    "Please fill out:\n",
    "* Student name: Gideon Miles, Stephanie Ciaccia, Luke Sims\n",
    "* Student pace: full time\n",
    "* Scheduled project review date/time: 3-10-2023\n",
    "* Instructor name: Daniel \n"
   ]
  },
  {
   "cell_type": "markdown",
   "metadata": {},
   "source": [
    "# __Importing Pandas/Numpy/Zipfile__"
   ]
  },
  {
   "cell_type": "code",
   "execution_count": 3,
   "metadata": {},
   "outputs": [],
   "source": [
    "# importing pandas, numpy and zipfile\n",
    "import zipfile\n",
    "import pandas as pd\n",
    "import datetime\n",
    "import numpy as np\n",
    "from dateutil.relativedelta import relativedelta\n",
    "import json\n",
    "import numpy as np\n",
    "import matplotlib.pyplot as plt\n",
    "from matplotlib.pyplot import figure\n",
    "from matplotlib import font_manager\n",
    "from matplotlib.ticker import StrMethodFormatter\n",
    "import seaborn as sns\n",
    "import sqlite3\n",
    "from datetime import datetime\n",
    "import requests\n",
    "import gzip\n",
    "import zipfile\n",
    "import csv \n"
   ]
  },
  {
   "cell_type": "markdown",
   "metadata": {},
   "source": [
    "# __Data #1 - TV Movies Budget (from class - box office mogo)__"
   ]
  },
  {
   "cell_type": "markdown",
   "metadata": {},
   "source": [
    "### Data Scources In The\n",
    "#### Data Sourced From \n",
    "Data for this section was sourced from Flatiron school's provided data set.  To avoid skewing from COVID this data excluded COVID preformance.  "
   ]
  },
  {
   "cell_type": "code",
   "execution_count": 4,
   "metadata": {},
   "outputs": [],
   "source": [
    "## opening read file\n",
    "budget = pd.read_csv('zippedData/tn.movie_budgets.csv.gz',compression='gzip')"
   ]
  },
  {
   "cell_type": "code",
   "execution_count": 5,
   "metadata": {},
   "outputs": [],
   "source": [
    "## removing $ and , from Production Budget and and changing type to integer\n",
    "\n",
    "budget['production_budget'] = budget['production_budget'].str.replace('$', '')\n",
    "budget['production_budget'] = budget['production_budget'].str.replace(',', '')\n",
    "budget['production_budget'] = budget['production_budget'].astype(int)\n",
    "\n",
    "## removing $ and , from Domestic Gross and and changing type to integer\n",
    "\n",
    "budget['domestic_gross'] = budget['domestic_gross'].str.replace('$', '')\n",
    "budget['domestic_gross'] = budget['domestic_gross'].str.replace(',', '')\n",
    "budget['domestic_gross'] = budget['domestic_gross'].astype(int)\n",
    "\n",
    "## removing $ and , from Worldwide Gross and changing type to integer\n",
    "\n",
    "budget['worldwide_gross'] = budget['worldwide_gross'].str.replace('$', '')\n",
    "budget['worldwide_gross'] = budget['worldwide_gross'].str.replace(',', '')\n",
    "budget['worldwide_gross'] = budget['worldwide_gross'].astype(int)"
   ]
  },
  {
   "cell_type": "code",
   "execution_count": 6,
   "metadata": {},
   "outputs": [],
   "source": [
    "# creating new column release year\n",
    "\n",
    "budget['release_year'] = pd.DatetimeIndex(budget['release_date']).year"
   ]
  },
  {
   "cell_type": "code",
   "execution_count": 7,
   "metadata": {},
   "outputs": [],
   "source": [
    "# changing type of release Date to datetime\n",
    "\n",
    "budget['release_date'] = pd.to_datetime(budget['release_date'])"
   ]
  },
  {
   "cell_type": "code",
   "execution_count": 8,
   "metadata": {},
   "outputs": [],
   "source": [
    "# converting 'release_date' column type from integer to datetime\n",
    "\n",
    "budget['release_date'] = pd.to_datetime(budget['release_date'])"
   ]
  },
  {
   "cell_type": "code",
   "execution_count": 9,
   "metadata": {},
   "outputs": [],
   "source": [
    "# renaming movie column to title\n",
    "budget = budget.rename(columns = {\"movie\":\"title\"})"
   ]
  },
  {
   "cell_type": "markdown",
   "metadata": {},
   "source": [
    "# _Data #1  - analyzing TV movies Budget_"
   ]
  },
  {
   "cell_type": "code",
   "execution_count": 10,
   "metadata": {},
   "outputs": [
    {
     "name": "stdout",
     "output_type": "stream",
     "text": [
      "1915-02-08 00:00:00\n",
      "2020-12-31 00:00:00\n",
      "105\n"
     ]
    }
   ],
   "source": [
    "#finding datset age range and ranges 105 years\n",
    "\n",
    "oldest_movie = min(budget['release_date'])\n",
    "newest_movie = max(budget['release_date'])\n",
    "movie_range = relativedelta(newest_movie, oldest_movie).years\n",
    "\n",
    "print(oldest_movie)\n",
    "print(newest_movie)\n",
    "print(movie_range)"
   ]
  },
  {
   "cell_type": "code",
   "execution_count": 11,
   "metadata": {},
   "outputs": [
    {
     "data": {
      "text/html": [
       "<div>\n",
       "<style scoped>\n",
       "    .dataframe tbody tr th:only-of-type {\n",
       "        vertical-align: middle;\n",
       "    }\n",
       "\n",
       "    .dataframe tbody tr th {\n",
       "        vertical-align: top;\n",
       "    }\n",
       "\n",
       "    .dataframe thead th {\n",
       "        text-align: right;\n",
       "    }\n",
       "</style>\n",
       "<table border=\"1\" class=\"dataframe\">\n",
       "  <thead>\n",
       "    <tr style=\"text-align: right;\">\n",
       "      <th></th>\n",
       "      <th>id</th>\n",
       "      <th>release_date</th>\n",
       "      <th>title</th>\n",
       "      <th>production_budget</th>\n",
       "      <th>domestic_gross</th>\n",
       "      <th>worldwide_gross</th>\n",
       "      <th>release_year</th>\n",
       "    </tr>\n",
       "  </thead>\n",
       "  <tbody>\n",
       "    <tr>\n",
       "      <th>0</th>\n",
       "      <td>1</td>\n",
       "      <td>2009-12-18</td>\n",
       "      <td>Avatar</td>\n",
       "      <td>425000000</td>\n",
       "      <td>760507625</td>\n",
       "      <td>2776345279</td>\n",
       "      <td>2009</td>\n",
       "    </tr>\n",
       "    <tr>\n",
       "      <th>42</th>\n",
       "      <td>43</td>\n",
       "      <td>1997-12-19</td>\n",
       "      <td>Titanic</td>\n",
       "      <td>200000000</td>\n",
       "      <td>659363944</td>\n",
       "      <td>2208208395</td>\n",
       "      <td>1997</td>\n",
       "    </tr>\n",
       "    <tr>\n",
       "      <th>5</th>\n",
       "      <td>6</td>\n",
       "      <td>2015-12-18</td>\n",
       "      <td>Star Wars Ep. VII: The Force Awakens</td>\n",
       "      <td>306000000</td>\n",
       "      <td>936662225</td>\n",
       "      <td>2053311220</td>\n",
       "      <td>2015</td>\n",
       "    </tr>\n",
       "    <tr>\n",
       "      <th>6</th>\n",
       "      <td>7</td>\n",
       "      <td>2018-04-27</td>\n",
       "      <td>Avengers: Infinity War</td>\n",
       "      <td>300000000</td>\n",
       "      <td>678815482</td>\n",
       "      <td>2048134200</td>\n",
       "      <td>2018</td>\n",
       "    </tr>\n",
       "    <tr>\n",
       "      <th>33</th>\n",
       "      <td>34</td>\n",
       "      <td>2015-06-12</td>\n",
       "      <td>Jurassic World</td>\n",
       "      <td>215000000</td>\n",
       "      <td>652270625</td>\n",
       "      <td>1648854864</td>\n",
       "      <td>2015</td>\n",
       "    </tr>\n",
       "    <tr>\n",
       "      <th>66</th>\n",
       "      <td>67</td>\n",
       "      <td>2015-04-03</td>\n",
       "      <td>Furious 7</td>\n",
       "      <td>190000000</td>\n",
       "      <td>353007020</td>\n",
       "      <td>1518722794</td>\n",
       "      <td>2015</td>\n",
       "    </tr>\n",
       "    <tr>\n",
       "      <th>26</th>\n",
       "      <td>27</td>\n",
       "      <td>2012-05-04</td>\n",
       "      <td>The Avengers</td>\n",
       "      <td>225000000</td>\n",
       "      <td>623279547</td>\n",
       "      <td>1517935897</td>\n",
       "      <td>2012</td>\n",
       "    </tr>\n",
       "    <tr>\n",
       "      <th>3</th>\n",
       "      <td>4</td>\n",
       "      <td>2015-05-01</td>\n",
       "      <td>Avengers: Age of Ultron</td>\n",
       "      <td>330600000</td>\n",
       "      <td>459005868</td>\n",
       "      <td>1403013963</td>\n",
       "      <td>2015</td>\n",
       "    </tr>\n",
       "    <tr>\n",
       "      <th>41</th>\n",
       "      <td>42</td>\n",
       "      <td>2018-02-16</td>\n",
       "      <td>Black Panther</td>\n",
       "      <td>200000000</td>\n",
       "      <td>700059566</td>\n",
       "      <td>1348258224</td>\n",
       "      <td>2018</td>\n",
       "    </tr>\n",
       "    <tr>\n",
       "      <th>260</th>\n",
       "      <td>61</td>\n",
       "      <td>2011-07-15</td>\n",
       "      <td>Harry Potter and the Deathly Hallows: Part II</td>\n",
       "      <td>125000000</td>\n",
       "      <td>381193157</td>\n",
       "      <td>1341693157</td>\n",
       "      <td>2011</td>\n",
       "    </tr>\n",
       "    <tr>\n",
       "      <th>4</th>\n",
       "      <td>5</td>\n",
       "      <td>2017-12-15</td>\n",
       "      <td>Star Wars Ep. VIII: The Last Jedi</td>\n",
       "      <td>317000000</td>\n",
       "      <td>620181382</td>\n",
       "      <td>1316721747</td>\n",
       "      <td>2017</td>\n",
       "    </tr>\n",
       "    <tr>\n",
       "      <th>112</th>\n",
       "      <td>13</td>\n",
       "      <td>2018-06-22</td>\n",
       "      <td>Jurassic World: Fallen Kingdom</td>\n",
       "      <td>170000000</td>\n",
       "      <td>417719760</td>\n",
       "      <td>1305772799</td>\n",
       "      <td>2018</td>\n",
       "    </tr>\n",
       "    <tr>\n",
       "      <th>155</th>\n",
       "      <td>56</td>\n",
       "      <td>2013-11-22</td>\n",
       "      <td>Frozen</td>\n",
       "      <td>150000000</td>\n",
       "      <td>400738009</td>\n",
       "      <td>1272469910</td>\n",
       "      <td>2013</td>\n",
       "    </tr>\n",
       "    <tr>\n",
       "      <th>134</th>\n",
       "      <td>35</td>\n",
       "      <td>2017-03-17</td>\n",
       "      <td>Beauty and the Beast</td>\n",
       "      <td>160000000</td>\n",
       "      <td>504014165</td>\n",
       "      <td>1259199706</td>\n",
       "      <td>2017</td>\n",
       "    </tr>\n",
       "    <tr>\n",
       "      <th>43</th>\n",
       "      <td>44</td>\n",
       "      <td>2018-06-15</td>\n",
       "      <td>Incredibles 2</td>\n",
       "      <td>200000000</td>\n",
       "      <td>608581744</td>\n",
       "      <td>1242520711</td>\n",
       "      <td>2018</td>\n",
       "    </tr>\n",
       "    <tr>\n",
       "      <th>22</th>\n",
       "      <td>23</td>\n",
       "      <td>2017-04-14</td>\n",
       "      <td>The Fate of the Furious</td>\n",
       "      <td>250000000</td>\n",
       "      <td>225764765</td>\n",
       "      <td>1234846267</td>\n",
       "      <td>2017</td>\n",
       "    </tr>\n",
       "    <tr>\n",
       "      <th>47</th>\n",
       "      <td>48</td>\n",
       "      <td>2013-05-03</td>\n",
       "      <td>Iron Man 3</td>\n",
       "      <td>200000000</td>\n",
       "      <td>408992272</td>\n",
       "      <td>1215392272</td>\n",
       "      <td>2013</td>\n",
       "    </tr>\n",
       "    <tr>\n",
       "      <th>672</th>\n",
       "      <td>73</td>\n",
       "      <td>2015-07-10</td>\n",
       "      <td>Minions</td>\n",
       "      <td>74000000</td>\n",
       "      <td>336045770</td>\n",
       "      <td>1160336173</td>\n",
       "      <td>2015</td>\n",
       "    </tr>\n",
       "    <tr>\n",
       "      <th>135</th>\n",
       "      <td>36</td>\n",
       "      <td>2018-12-21</td>\n",
       "      <td>Aquaman</td>\n",
       "      <td>160000000</td>\n",
       "      <td>335061807</td>\n",
       "      <td>1146894640</td>\n",
       "      <td>2018</td>\n",
       "    </tr>\n",
       "    <tr>\n",
       "      <th>425</th>\n",
       "      <td>26</td>\n",
       "      <td>2003-12-17</td>\n",
       "      <td>The Lord of the Rings: The Return of the King</td>\n",
       "      <td>94000000</td>\n",
       "      <td>377845905</td>\n",
       "      <td>1141403341</td>\n",
       "      <td>2003</td>\n",
       "    </tr>\n",
       "  </tbody>\n",
       "</table>\n",
       "</div>"
      ],
      "text/plain": [
       "     id release_date                                          title  \\\n",
       "0     1   2009-12-18                                         Avatar   \n",
       "42   43   1997-12-19                                        Titanic   \n",
       "5     6   2015-12-18           Star Wars Ep. VII: The Force Awakens   \n",
       "6     7   2018-04-27                         Avengers: Infinity War   \n",
       "33   34   2015-06-12                                 Jurassic World   \n",
       "66   67   2015-04-03                                      Furious 7   \n",
       "26   27   2012-05-04                                   The Avengers   \n",
       "3     4   2015-05-01                        Avengers: Age of Ultron   \n",
       "41   42   2018-02-16                                  Black Panther   \n",
       "260  61   2011-07-15  Harry Potter and the Deathly Hallows: Part II   \n",
       "4     5   2017-12-15              Star Wars Ep. VIII: The Last Jedi   \n",
       "112  13   2018-06-22                 Jurassic World: Fallen Kingdom   \n",
       "155  56   2013-11-22                                         Frozen   \n",
       "134  35   2017-03-17                           Beauty and the Beast   \n",
       "43   44   2018-06-15                                  Incredibles 2   \n",
       "22   23   2017-04-14                        The Fate of the Furious   \n",
       "47   48   2013-05-03                                     Iron Man 3   \n",
       "672  73   2015-07-10                                        Minions   \n",
       "135  36   2018-12-21                                        Aquaman   \n",
       "425  26   2003-12-17  The Lord of the Rings: The Return of the King   \n",
       "\n",
       "     production_budget  domestic_gross  worldwide_gross  release_year  \n",
       "0            425000000       760507625       2776345279          2009  \n",
       "42           200000000       659363944       2208208395          1997  \n",
       "5            306000000       936662225       2053311220          2015  \n",
       "6            300000000       678815482       2048134200          2018  \n",
       "33           215000000       652270625       1648854864          2015  \n",
       "66           190000000       353007020       1518722794          2015  \n",
       "26           225000000       623279547       1517935897          2012  \n",
       "3            330600000       459005868       1403013963          2015  \n",
       "41           200000000       700059566       1348258224          2018  \n",
       "260          125000000       381193157       1341693157          2011  \n",
       "4            317000000       620181382       1316721747          2017  \n",
       "112          170000000       417719760       1305772799          2018  \n",
       "155          150000000       400738009       1272469910          2013  \n",
       "134          160000000       504014165       1259199706          2017  \n",
       "43           200000000       608581744       1242520711          2018  \n",
       "22           250000000       225764765       1234846267          2017  \n",
       "47           200000000       408992272       1215392272          2013  \n",
       "672           74000000       336045770       1160336173          2015  \n",
       "135          160000000       335061807       1146894640          2018  \n",
       "425           94000000       377845905       1141403341          2003  "
      ]
     },
     "execution_count": 11,
     "metadata": {},
     "output_type": "execute_result"
    }
   ],
   "source": [
    "##defining and sorting top 20 grossing movies\n",
    "\n",
    "top_gross_movies = budget.sort_values(by=\"worldwide_gross\",ascending=False).head(20)\n",
    "top_gross_movies\n"
   ]
  },
  {
   "cell_type": "markdown",
   "metadata": {},
   "source": [
    "# Data Source #2 - Top Rated Movies - pulled from TMBD API"
   ]
  },
  {
   "cell_type": "markdown",
   "metadata": {},
   "source": [
    "### Data Scources In The\n",
    "#### Data Sourced From \n",
    "TMDBs API, sourced this data as it included, movies up until 2022, as the other data sets did not include top preforming films from the past two years.\n"
   ]
  },
  {
   "cell_type": "code",
   "execution_count": 12,
   "metadata": {},
   "outputs": [],
   "source": [
    "import requests\n",
    "import pandas as pd\n",
    "\n",
    "\n",
    "# creating loop to pull 8000 records from top rated movies\n",
    "# set page numbers\n",
    "page = 1\n",
    "total_pages = 400\n",
    "\n",
    "# empty list\n",
    "data_list = []\n",
    "\n",
    "# loop to iterate\n",
    "while page <= total_pages:\n",
    "    # make a request to the API with the current page number\n",
    "    response = requests.get('https://api.themoviedb.org/3/movie/top_rated?api_key=a88e9a2c082e4caa0a1447a81f7e743b&language=en-US&page=' + str(page))\n",
    "\n",
    "    # response\n",
    "    data = response.json()['results']\n",
    "    \n",
    "    #append data to list\n",
    "    data_list.append(data)\n",
    "\n",
    "    #increase page number\n",
    "    page += 1"
   ]
  },
  {
   "cell_type": "code",
   "execution_count": 13,
   "metadata": {},
   "outputs": [
    {
     "data": {
      "text/plain": [
       "dict_keys(['page', 'results', 'total_pages', 'total_results'])"
      ]
     },
     "execution_count": 13,
     "metadata": {},
     "output_type": "execute_result"
    }
   ],
   "source": [
    "# pulling keys\n",
    "\n",
    "response.json().keys()"
   ]
  },
  {
   "cell_type": "code",
   "execution_count": 14,
   "metadata": {},
   "outputs": [],
   "source": [
    "# concatenate the data into a pandas DataFrame -\n",
    "\n",
    "top_movies = pd.concat([pd.DataFrame(data) for data in data_list], ignore_index=True)"
   ]
  },
  {
   "cell_type": "code",
   "execution_count": 15,
   "metadata": {},
   "outputs": [],
   "source": [
    "#reindexing dataframe\n",
    "\n",
    "top_movies = top_movies .reset_index(drop=True)"
   ]
  },
  {
   "cell_type": "code",
   "execution_count": 16,
   "metadata": {},
   "outputs": [],
   "source": [
    "# split the list into columns\n",
    "split_movies = top_movies ['genre_ids'].apply(pd.Series)\n",
    "\n",
    "#renaming the columns\n",
    "split_movies = split_movies.rename(columns=lambda x: f'col_{x+1}')\n",
    "\n",
    "# add the new columns back to top_rated DataFrame\n",
    "top_movies = pd.concat([top_movies, split_movies], axis=1)"
   ]
  },
  {
   "cell_type": "code",
   "execution_count": 17,
   "metadata": {},
   "outputs": [],
   "source": [
    "#dropping null values\n",
    "\n",
    "top_movies.dropna(axis=0, how='any', subset=['title'], inplace=True)"
   ]
  },
  {
   "cell_type": "code",
   "execution_count": 18,
   "metadata": {},
   "outputs": [],
   "source": [
    "#dropping columns that aren't needed\n",
    "\n",
    "top_movies = top_movies.drop(['adult', 'backdrop_path', 'genre_ids', 'poster_path', 'video',\n",
    "                          'original_language', 'overview','col_7', 'col_8', 'col_9'], axis=1)"
   ]
  },
  {
   "cell_type": "code",
   "execution_count": 19,
   "metadata": {},
   "outputs": [],
   "source": [
    "#renaming the genre columns\n",
    "top_movies.rename(columns = {'col_1':'genre_id_1','col_2':'genre_id_2','col_3':'genre_id_3',\n",
    "                            'col_4':'genre_id_4', 'col_5':'genre_id_5', 'col_6':'genre_id_6'}, inplace = True)"
   ]
  },
  {
   "cell_type": "code",
   "execution_count": 20,
   "metadata": {},
   "outputs": [],
   "source": [
    "##changing N/A variables to 0\n",
    "\n",
    "top_movies = top_movies.fillna(0)"
   ]
  },
  {
   "cell_type": "code",
   "execution_count": 21,
   "metadata": {},
   "outputs": [],
   "source": [
    "# converting  column type from float64 to int\n",
    "\n",
    "top_movies[['genre_id_1','genre_id_2','genre_id_3','genre_id_4','genre_id_5','genre_id_6']] = top_movies[['genre_id_1','genre_id_2','genre_id_3','genre_id_4','genre_id_5','genre_id_6']].astype(int)"
   ]
  },
  {
   "cell_type": "code",
   "execution_count": 22,
   "metadata": {},
   "outputs": [],
   "source": [
    "# changing title type to string\n",
    "top_movies['title'] = top_movies['title'].astype('str')"
   ]
  },
  {
   "cell_type": "code",
   "execution_count": 23,
   "metadata": {},
   "outputs": [],
   "source": [
    "##converting 'release_date' column type from integer to datetime\n",
    "\n",
    "top_movies['release_date'] = pd.to_datetime(top_movies['release_date'])"
   ]
  },
  {
   "cell_type": "code",
   "execution_count": 24,
   "metadata": {},
   "outputs": [
    {
     "name": "stdout",
     "output_type": "stream",
     "text": [
      "1895-06-10 00:00:00\n",
      "2023-03-01 00:00:00\n"
     ]
    }
   ],
   "source": [
    "# information about first and last movie entry in data\n",
    "\n",
    "first_movie = min(top_movies['release_date'])\n",
    "last_movie = max(top_movies['release_date'])\n",
    "\n",
    "print(first_movie)\n",
    "print(last_movie)"
   ]
  },
  {
   "cell_type": "markdown",
   "metadata": {},
   "source": [
    "# Data Source #2  - Analyzing & Visualizing"
   ]
  },
  {
   "cell_type": "code",
   "execution_count": 25,
   "metadata": {},
   "outputs": [
    {
     "name": "stdout",
     "output_type": "stream",
     "text": [
      "<class 'pandas.core.frame.DataFrame'>\n",
      "Int64Index: 8000 entries, 0 to 7999\n",
      "Data columns (total 13 columns):\n",
      " #   Column          Non-Null Count  Dtype         \n",
      "---  ------          --------------  -----         \n",
      " 0   id              8000 non-null   int64         \n",
      " 1   original_title  8000 non-null   object        \n",
      " 2   popularity      8000 non-null   float64       \n",
      " 3   release_date    8000 non-null   datetime64[ns]\n",
      " 4   title           8000 non-null   object        \n",
      " 5   vote_average    8000 non-null   float64       \n",
      " 6   vote_count      8000 non-null   int64         \n",
      " 7   genre_id_1      8000 non-null   int64         \n",
      " 8   genre_id_2      8000 non-null   int64         \n",
      " 9   genre_id_3      8000 non-null   int64         \n",
      " 10  genre_id_4      8000 non-null   int64         \n",
      " 11  genre_id_5      8000 non-null   int64         \n",
      " 12  genre_id_6      8000 non-null   int64         \n",
      "dtypes: datetime64[ns](1), float64(2), int64(8), object(2)\n",
      "memory usage: 875.0+ KB\n"
     ]
    }
   ],
   "source": [
    "top_movies.info()"
   ]
  },
  {
   "cell_type": "code",
   "execution_count": 26,
   "metadata": {},
   "outputs": [],
   "source": [
    "# creating df of most popular films by popularity\n",
    "\n",
    "most_popular = top_movies.sort_values(by='popularity',ascending=False).head(20)"
   ]
  },
  {
   "cell_type": "code",
   "execution_count": 27,
   "metadata": {},
   "outputs": [],
   "source": [
    "# creating new dataframe with only the top genres\n",
    "\n",
    "top_genres = top_movies[['genre_id_1','genre_id_2', 'genre_id_3', 'genre_id_4', 'genre_id_5', 'genre_id_6']].apply(pd.Series.value_counts)"
   ]
  },
  {
   "cell_type": "code",
   "execution_count": 28,
   "metadata": {},
   "outputs": [],
   "source": [
    "# changing N/A variables to 0\n",
    "top_genres = top_genres.fillna(0)"
   ]
  },
  {
   "cell_type": "code",
   "execution_count": 29,
   "metadata": {},
   "outputs": [],
   "source": [
    "# creating a genre total column that sums up the total values and making it a integer\n",
    "top_genres['genre_total'] = top_genres.sum(axis=1)"
   ]
  },
  {
   "cell_type": "code",
   "execution_count": 30,
   "metadata": {},
   "outputs": [],
   "source": [
    "# dropping first row\n",
    "top_genres.drop([0],inplace=True)"
   ]
  },
  {
   "cell_type": "code",
   "execution_count": 31,
   "metadata": {},
   "outputs": [],
   "source": [
    "# creating column with the genre names\n",
    "\n",
    "top_genres['genre_name'] = ['Adventure','Fantasy','Animation','Drama','Horror',\n",
    "                            'Action','Comedy','History','Western','Thriller',\n",
    "                            'Crime','Science Fiction', 'Mystery', 'Music','Romance',\n",
    "                            'Family', 'War', 'TV Movie']"
   ]
  },
  {
   "cell_type": "code",
   "execution_count": 32,
   "metadata": {},
   "outputs": [],
   "source": [
    "# creating a percent column\n",
    "\n",
    "top_genres['percent'] = ((top_genres['genre_total'] / top_genres['genre_total'].sum()) * 100)\n"
   ]
  },
  {
   "cell_type": "code",
   "execution_count": 33,
   "metadata": {},
   "outputs": [],
   "source": [
    "# creating new df with only the genre ids to graph\n",
    "\n",
    "top_genres_total= top_genres.drop(columns=['genre_id_1', 'genre_id_2','genre_id_3','genre_id_4',\n",
    "                                          'genre_id_5','genre_id_6'])"
   ]
  },
  {
   "cell_type": "code",
   "execution_count": 34,
   "metadata": {},
   "outputs": [],
   "source": [
    "##changing order of the columns\n",
    "\n",
    "top_genres_total = top_genres_total [['genre_name', 'genre_total']]\n",
    "top_genres_total = top_genres_total.sort_values(by='genre_total',ascending=False).head(20)"
   ]
  },
  {
   "cell_type": "markdown",
   "metadata": {},
   "source": [
    "# Data Source #2 -  Analyzing Sub-genres"
   ]
  },
  {
   "cell_type": "code",
   "execution_count": 35,
   "metadata": {},
   "outputs": [],
   "source": [
    "# ADVENTURE DRAMA\n",
    "\n",
    "# could not figure out how to do this in a loop, so used the isin statement\n",
    "#to pull records that have the genre from all genre columns and then merged the records and removed duplicates\n",
    "# https://stackoverflow.com/questions/19125091/pandas-merge-how-to-avoid-duplicating-columns\n",
    "\n",
    "#genre 1 - ADVENTURE\n",
    "\n",
    "genre_columns_one = ['genre_id_1','genre_id_2', 'genre_id_3', 'genre_id_4', 'genre_id_5', 'genre_id_6']\n",
    "sub_genre_one = top_movies[genre_columns_one].isin([18]).any(axis=1)\n",
    "top_sub_genres_one = top_movies[sub_genre_one]\n",
    "top_sub_genres_one\n",
    "\n",
    "#genre 2 - DRAMA\n",
    "genre_columns_two = ['genre_id_1','genre_id_2', 'genre_id_3', 'genre_id_4', 'genre_id_5', 'genre_id_6']\n",
    "sub_genre_two = top_movies[genre_columns_two].isin([12]).any(axis=1)\n",
    "top_sub_genres_two = top_movies[sub_genre_two]\n",
    "top_sub_genres_two\n",
    "\n",
    "#merge based on title\n",
    "\n",
    "merged_genre_18_12 = pd.merge(top_sub_genres_one,top_sub_genres_two, on=\"title\", how=\"inner\",left_index=True,\n",
    "                           right_index=True, suffixes=('', '_remove'))\n",
    " \n",
    "# remove the duplicate columns\n",
    "merged_genre_18_12.drop([i for i in merged_genre_18_12.columns if 'remove' in i],\n",
    "               axis=1, inplace=True)"
   ]
  },
  {
   "cell_type": "code",
   "execution_count": 36,
   "metadata": {},
   "outputs": [],
   "source": [
    "# COMEDY DRAMA\n",
    "\n",
    "#genre 1 - DRAMA\n",
    "\n",
    "genre_columns_one = ['genre_id_1','genre_id_2', 'genre_id_3', 'genre_id_4', 'genre_id_5', 'genre_id_6']\n",
    "sub_genre_one = top_movies[genre_columns_one].isin([18]).any(axis=1)\n",
    "top_sub_genres_one = top_movies[sub_genre_one]\n",
    "top_sub_genres_one\n",
    "\n",
    "#genre 2 - COMEDY\n",
    "genre_columns_two = ['genre_id_1','genre_id_2', 'genre_id_3', 'genre_id_4', 'genre_id_5', 'genre_id_6']\n",
    "sub_genre_two = top_movies[genre_columns_two].isin([35]).any(axis=1)\n",
    "top_sub_genres_two = top_movies[sub_genre_two]\n",
    "top_sub_genres_two\n",
    "\n",
    "#merge based on title\n",
    "\n",
    "merged_genre_18_35 = pd.merge(top_sub_genres_one,top_sub_genres_two, on=\"title\", how=\"inner\",left_index=True,\n",
    "                           right_index=True, suffixes=('', '_remove'))\n",
    " \n",
    "# remove the duplicate columns\n",
    "merged_genre_18_35.drop([i for i in merged_genre_18_35.columns if 'remove' in i],\n",
    "               axis=1, inplace=True)"
   ]
  },
  {
   "cell_type": "code",
   "execution_count": 37,
   "metadata": {},
   "outputs": [],
   "source": [
    "# FANTASY DRAMA\n",
    "\n",
    "#genre 1 - DRAMA\n",
    "\n",
    "genre_columns_one = ['genre_id_1','genre_id_2', 'genre_id_3', 'genre_id_4', 'genre_id_5', 'genre_id_6']\n",
    "sub_genre_one = top_movies[genre_columns_one].isin([18]).any(axis=1)\n",
    "top_sub_genres_one = top_movies[sub_genre_one]\n",
    "top_sub_genres_one\n",
    "\n",
    "#genre 2 - FANTASY\n",
    "genre_columns_two = ['genre_id_1','genre_id_2', 'genre_id_3', 'genre_id_4', 'genre_id_5', 'genre_id_6']\n",
    "sub_genre_two = top_movies[genre_columns_two].isin([14]).any(axis=1)\n",
    "top_sub_genres_two = top_movies[sub_genre_two]\n",
    "top_sub_genres_two\n",
    "\n",
    "#merge based on title\n",
    "\n",
    "merged_genre_18_14 = pd.merge(top_sub_genres_one,top_sub_genres_two, on=\"title\", how=\"inner\",left_index=True,\n",
    "                           right_index=True, suffixes=('', '_remove'))\n",
    " \n",
    "# remove the duplicate columns\n",
    "merged_genre_18_14.drop([i for i in merged_genre_18_14.columns if 'remove' in i],\n",
    "               axis=1, inplace=True)"
   ]
  },
  {
   "cell_type": "code",
   "execution_count": 38,
   "metadata": {},
   "outputs": [],
   "source": [
    "# ROMANCE DRAMA\n",
    "\n",
    "#genre 1 - DRAMA\n",
    "\n",
    "genre_columns_one = ['genre_id_1','genre_id_2', 'genre_id_3', 'genre_id_4', 'genre_id_5', 'genre_id_6']\n",
    "sub_genre_one = top_movies[genre_columns_one].isin([18]).any(axis=1)\n",
    "top_sub_genres_one = top_movies[sub_genre_one]\n",
    "top_sub_genres_one\n",
    "\n",
    "#genre 2 - ROMANCE\n",
    "genre_columns_two = ['genre_id_1','genre_id_2', 'genre_id_3', 'genre_id_4', 'genre_id_5', 'genre_id_6']\n",
    "sub_genre_two = top_movies[genre_columns_two].isin([10749]).any(axis=1)\n",
    "top_sub_genres_two = top_movies[sub_genre_two]\n",
    "top_sub_genres_two\n",
    "\n",
    "#merge based on title\n",
    "\n",
    "merged_genre_18_10749 = pd.merge(top_sub_genres_one,top_sub_genres_two, on=\"title\", how=\"inner\",left_index=True,\n",
    "                           right_index=True, suffixes=('', '_remove'))\n",
    " \n",
    "# remove the duplicate columns\n",
    "merged_genre_18_10749.drop([i for i in merged_genre_18_10749.columns if 'remove' in i],\n",
    "               axis=1, inplace=True)"
   ]
  },
  {
   "cell_type": "code",
   "execution_count": 39,
   "metadata": {},
   "outputs": [],
   "source": [
    "# ACTION DRAMA\n",
    "\n",
    "#genre 1 - DRAMA\n",
    "\n",
    "genre_columns_one = ['genre_id_1','genre_id_2', 'genre_id_3', 'genre_id_4', 'genre_id_5', 'genre_id_6']\n",
    "sub_genre_one = top_movies[genre_columns_one].isin([18]).any(axis=1)\n",
    "top_sub_genres_one = top_movies[sub_genre_one]\n",
    "top_sub_genres_one\n",
    "\n",
    "#genre 2 - ACTION\n",
    "genre_columns_two = ['genre_id_1','genre_id_2', 'genre_id_3', 'genre_id_4', 'genre_id_5', 'genre_id_6']\n",
    "sub_genre_two = top_movies[genre_columns_two].isin([28]).any(axis=1)\n",
    "top_sub_genres_two = top_movies[sub_genre_two]\n",
    "top_sub_genres_two\n",
    "\n",
    "#merge based on title\n",
    "\n",
    "merged_genre_18_28 = pd.merge(top_sub_genres_one,top_sub_genres_two, on=\"title\", how=\"inner\",left_index=True,\n",
    "                           right_index=True, suffixes=('', '_remove'))\n",
    " \n",
    "# remove the duplicate columns\n",
    "merged_genre_18_28.drop([i for i in merged_genre_18_28.columns if 'remove' in i],\n",
    "               axis=1, inplace=True)"
   ]
  },
  {
   "cell_type": "code",
   "execution_count": 40,
   "metadata": {},
   "outputs": [],
   "source": [
    "# CRIME DRAMA\n",
    "\n",
    "#genre 1 - DRAMA\n",
    "\n",
    "genre_columns_one = ['genre_id_1','genre_id_2', 'genre_id_3', 'genre_id_4', 'genre_id_5', 'genre_id_6']\n",
    "sub_genre_one = top_movies[genre_columns_one].isin([18]).any(axis=1)\n",
    "top_sub_genres_one = top_movies[sub_genre_one]\n",
    "top_sub_genres_one\n",
    "\n",
    "#genre 2 - CRIME\n",
    "genre_columns_two = ['genre_id_1','genre_id_2', 'genre_id_3', 'genre_id_4', 'genre_id_5', 'genre_id_6']\n",
    "sub_genre_two = top_movies[genre_columns_two].isin([80]).any(axis=1)\n",
    "top_sub_genres_two = top_movies[sub_genre_two]\n",
    "top_sub_genres_two\n",
    "\n",
    "#merge based on title\n",
    "\n",
    "merged_genre_18_80 = pd.merge(top_sub_genres_one,top_sub_genres_two, on=\"title\", how=\"inner\",left_index=True,\n",
    "                           right_index=True, suffixes=('', '_remove'))\n",
    " \n",
    "# remove the duplicate columns\n",
    "merged_genre_18_80.drop([i for i in merged_genre_18_80.columns if 'remove' in i],\n",
    "               axis=1, inplace=True)"
   ]
  },
  {
   "cell_type": "code",
   "execution_count": 41,
   "metadata": {},
   "outputs": [],
   "source": [
    "# THRILLER DRAMA\n",
    "\n",
    "#genre 1 - DRAMA\n",
    "\n",
    "genre_columns_one = ['genre_id_1','genre_id_2', 'genre_id_3', 'genre_id_4', 'genre_id_5', 'genre_id_6']\n",
    "sub_genre_one = top_movies[genre_columns_one].isin([18]).any(axis=1)\n",
    "top_sub_genres_one = top_movies[sub_genre_one]\n",
    "top_sub_genres_one\n",
    "\n",
    "#genre 2 - FANTASY\n",
    "genre_columns_two = ['genre_id_1','genre_id_2', 'genre_id_3', 'genre_id_4', 'genre_id_5', 'genre_id_6']\n",
    "sub_genre_two = top_movies[genre_columns_two].isin([53]).any(axis=1)\n",
    "top_sub_genres_two = top_movies[sub_genre_two]\n",
    "top_sub_genres_two\n",
    "\n",
    "#merge based on title\n",
    "\n",
    "merged_genre_18_53 = pd.merge(top_sub_genres_one,top_sub_genres_two, on=\"title\", how=\"inner\",left_index=True,\n",
    "                           right_index=True, suffixes=('', '_remove'))\n",
    " \n",
    "# remove the duplicate columns\n",
    "merged_genre_18_53.drop([i for i in merged_genre_18_53.columns if 'remove' in i],\n",
    "               axis=1, inplace=True)"
   ]
  },
  {
   "cell_type": "code",
   "execution_count": 42,
   "metadata": {},
   "outputs": [],
   "source": [
    "# ANIMATION DRAMA\n",
    "\n",
    "#genre 1 - DRAMA\n",
    "\n",
    "genre_columns_one = ['genre_id_1','genre_id_2', 'genre_id_3', 'genre_id_4', 'genre_id_5', 'genre_id_6']\n",
    "sub_genre_one = top_movies[genre_columns_one].isin([35]).any(axis=1)\n",
    "top_sub_genres_one = top_movies[sub_genre_one]\n",
    "top_sub_genres_one\n",
    "\n",
    "#genre 2 - ANIMATION\n",
    "genre_columns_two = ['genre_id_1','genre_id_2', 'genre_id_3', 'genre_id_4', 'genre_id_5', 'genre_id_6']\n",
    "sub_genre_two = top_movies[genre_columns_two].isin([16]).any(axis=1)\n",
    "top_sub_genres_two = top_movies[sub_genre_two]\n",
    "top_sub_genres_two\n",
    "\n",
    "#merge based on title\n",
    "\n",
    "merged_genre_35_16 = pd.merge(top_sub_genres_one,top_sub_genres_two, on=\"title\", how=\"inner\",left_index=True,\n",
    "                           right_index=True, suffixes=('', '_remove'))\n",
    " \n",
    "# remove the duplicate columns\n",
    "merged_genre_35_16.drop([i for i in merged_genre_35_16.columns if 'remove' in i],\n",
    "               axis=1, inplace=True)"
   ]
  },
  {
   "cell_type": "code",
   "execution_count": 43,
   "metadata": {},
   "outputs": [],
   "source": [
    "# ANIMATION DRAMA\n",
    "\n",
    "#genre 1 - DRAMA\n",
    "\n",
    "genre_columns_one = ['genre_id_1','genre_id_2', 'genre_id_3', 'genre_id_4', 'genre_id_5', 'genre_id_6']\n",
    "sub_genre_one = top_movies[genre_columns_one].isin([35]).any(axis=1)\n",
    "top_sub_genres_one = top_movies[sub_genre_one]\n",
    "top_sub_genres_one\n",
    "\n",
    "#genre 2 - ANIMATION\n",
    "genre_columns_two = ['genre_id_1','genre_id_2', 'genre_id_3', 'genre_id_4', 'genre_id_5', 'genre_id_6']\n",
    "sub_genre_two = top_movies[genre_columns_two].isin([16]).any(axis=1)\n",
    "top_sub_genres_two = top_movies[sub_genre_two]\n",
    "top_sub_genres_two\n",
    "\n",
    "#merge based on title\n",
    "\n",
    "merged_genre_35_16 = pd.merge(top_sub_genres_one,top_sub_genres_two, on=\"title\", how=\"inner\",left_index=True,\n",
    "                           right_index=True, suffixes=('', '_remove'))\n",
    " \n",
    "# remove the duplicate columns\n",
    "merged_genre_35_16.drop([i for i in merged_genre_35_16.columns if 'remove' in i],\n",
    "               axis=1, inplace=True)"
   ]
  },
  {
   "cell_type": "code",
   "execution_count": 44,
   "metadata": {},
   "outputs": [
    {
     "ename": "NameError",
     "evalue": "name 'merged_genre_35_10749' is not defined",
     "output_type": "error",
     "traceback": [
      "\u001b[0;31m---------------------------------------------------------------------------\u001b[0m",
      "\u001b[0;31mNameError\u001b[0m                                 Traceback (most recent call last)",
      "\u001b[0;32m<ipython-input-44-6c2f9b0bc76a>\u001b[0m in \u001b[0;36m<module>\u001b[0;34m\u001b[0m\n\u001b[1;32m      2\u001b[0m genre_data = [len(merged_genre_18_12.index), len(merged_genre_18_35.index),\n\u001b[1;32m      3\u001b[0m               \u001b[0mlen\u001b[0m\u001b[0;34m(\u001b[0m\u001b[0mmerged_genre_18_14\u001b[0m\u001b[0;34m.\u001b[0m\u001b[0mindex\u001b[0m\u001b[0;34m)\u001b[0m\u001b[0;34m,\u001b[0m \u001b[0mlen\u001b[0m\u001b[0;34m(\u001b[0m\u001b[0mmerged_genre_18_10749\u001b[0m\u001b[0;34m.\u001b[0m\u001b[0mindex\u001b[0m\u001b[0;34m)\u001b[0m\u001b[0;34m,\u001b[0m \u001b[0mlen\u001b[0m\u001b[0;34m(\u001b[0m\u001b[0mmerged_genre_18_28\u001b[0m\u001b[0;34m.\u001b[0m\u001b[0mindex\u001b[0m\u001b[0;34m)\u001b[0m\u001b[0;34m,\u001b[0m\u001b[0;34m\u001b[0m\u001b[0;34m\u001b[0m\u001b[0m\n\u001b[0;32m----> 4\u001b[0;31m               len(merged_genre_18_80.index),len(merged_genre_18_53.index),len(merged_genre_35_10749.index), len(merged_genre_35_16.index)]\n\u001b[0m\u001b[1;32m      5\u001b[0m \u001b[0;34m\u001b[0m\u001b[0m\n\u001b[1;32m      6\u001b[0m \u001b[0mgenre_data_graph\u001b[0m \u001b[0;34m=\u001b[0m \u001b[0mpd\u001b[0m\u001b[0;34m.\u001b[0m\u001b[0mDataFrame\u001b[0m\u001b[0;34m(\u001b[0m\u001b[0mgenre_data\u001b[0m\u001b[0;34m,\u001b[0m \u001b[0mcolumns\u001b[0m \u001b[0;34m=\u001b[0m \u001b[0;34m[\u001b[0m\u001b[0;34m'genre_total'\u001b[0m\u001b[0;34m]\u001b[0m\u001b[0;34m)\u001b[0m\u001b[0;34m\u001b[0m\u001b[0;34m\u001b[0m\u001b[0m\n",
      "\u001b[0;31mNameError\u001b[0m: name 'merged_genre_35_10749' is not defined"
     ]
    }
   ],
   "source": [
    "# creating new dataframe with lenths of sub-genres\n",
    "genre_data = [len(merged_genre_18_12.index), len(merged_genre_18_35.index),\n",
    "              len(merged_genre_18_14.index), len(merged_genre_18_10749.index), len(merged_genre_18_28.index),\n",
    "              len(merged_genre_18_80.index),len(merged_genre_18_53.index),len(merged_genre_35_10749.index), len(merged_genre_35_16.index)]\n",
    "\n",
    "genre_data_graph = pd.DataFrame(genre_data, columns = ['genre_total'])\n",
    "\n",
    "# naming the columns based on the genre keys\n",
    "no_drama = ['Adventure Drama', 'Comedy Drama', 'Fantasy Drama', 'Romance Drama', 'Action Drama','Crime Drama','Thriller Drama',\n",
    "           'Comedy-Romance', 'Animation Drama']\n",
    "\n",
    "genre_data_graph['genre_name'] = no_drama\n",
    "\n",
    "# re-arranging column position\n",
    "moving_genre = genre_data_graph.pop('genre_name')\n",
    "  \n",
    "genre_data_graph.insert(0, 'genre_name', moving_genre)"
   ]
  },
  {
   "cell_type": "code",
   "execution_count": null,
   "metadata": {},
   "outputs": [],
   "source": [
    "# sorting by genre total\n",
    "sub_genre_sorted = genre_data_graph.sort_values(by='genre_total',ascending=False)\n",
    "sub_genre_sorted"
   ]
  },
  {
   "cell_type": "code",
   "execution_count": null,
   "metadata": {},
   "outputs": [],
   "source": [
    "genre_sum = sub_genre_sorted['genre_total'].sum()\n",
    "genre_sum "
   ]
  },
  {
   "cell_type": "markdown",
   "metadata": {},
   "source": [
    "# Data Source #2   - Looking at genres without 'Drama\""
   ]
  },
  {
   "cell_type": "code",
   "execution_count": null,
   "metadata": {},
   "outputs": [],
   "source": [
    "#creating dataframe from main top_genres and removing \"drama\" category as this might skew the data\n",
    "\n",
    "top_genres_no_drama = top_genres_total\n",
    "\n",
    "top_genres_no_drama = top_genres_no_drama.tail(-1)\n",
    "top_genres_no_drama "
   ]
  },
  {
   "cell_type": "code",
   "execution_count": null,
   "metadata": {},
   "outputs": [],
   "source": [
    "# creating percentage colum to represent breakdown of categories and rounding the floats\n",
    "\n",
    "genre_breakdown = top_genres_no_drama\n",
    "\n",
    "genre_breakdown['percent'] = ((genre_breakdown['genre_total'] / genre_breakdown['genre_total'].sum() * 100))\n",
    "genre_breakdown.percent = genre_breakdown.percent.round(2)"
   ]
  },
  {
   "cell_type": "code",
   "execution_count": null,
   "metadata": {},
   "outputs": [],
   "source": [
    "# making dataframe with top 5\n",
    "\n",
    "genre_top5 = genre_breakdown.head(5)"
   ]
  },
  {
   "cell_type": "code",
   "execution_count": null,
   "metadata": {},
   "outputs": [],
   "source": [
    "# resestting index\n",
    "\n",
    "genre_breakdown = genre_breakdown.reset_index()\n",
    "genre_breakdown.rename(columns = {'genre_name':'Genre'}, inplace = True)\n",
    "genre_breakdown.rename(columns = {'percent':'Market Share %'}, inplace = True)"
   ]
  },
  {
   "cell_type": "code",
   "execution_count": null,
   "metadata": {},
   "outputs": [],
   "source": [
    "# creating x and y\n",
    "x = genre_top5['genre_name']\n",
    "y = genre_top5['percent']\n",
    "\n",
    "# resizing & design\n",
    "fig = plt.figure(figsize=(13, 6))\n",
    "plt.rc('xtick', labelsize=12) \n",
    "plt.rc('ytick', labelsize=11)\n",
    "rfont = {'fontname':'helvetica'}\n",
    "\n",
    "# setting labels\n",
    "plt.title('Box office movie genres from 1915 - 2020',**rfont, fontdict = {'fontsize' : 20, 'fontweight': 100} , pad = 20\n",
    "         )\n",
    "plt.xlabel('Genre',labelpad = 15, fontdict = {'fontsize' : 15} )\n",
    "plt.ylabel('Market share (%)', labelpad = 15, fontdict = {'fontsize' : 15})\n",
    "\n",
    "# making the bar\n",
    "genre_graph = plt.bar(x, y,color=('#0071ff'))\n",
    "\n",
    "for bar in genre_graph:\n",
    "    yval = bar.get_height()\n",
    "    plt.text(bar.get_x() + bar.get_width()/2, yval, yval, ha='center', va='bottom')\n"
   ]
  },
  {
   "cell_type": "markdown",
   "metadata": {},
   "source": [
    "# Data Source #3 -  Box office revenue by genre - Numbers.com"
   ]
  },
  {
   "cell_type": "markdown",
   "metadata": {},
   "source": [
    "### Data Scources In The\n",
    "#### Data Sourced From \n",
    "Data was sourced from the numbers.com additional data was pulled to include additional films from the last two years.  Two out of the five top grossing films of all time were released during the period covered in this data set. "
   ]
  },
  {
   "cell_type": "code",
   "execution_count": null,
   "metadata": {},
   "outputs": [],
   "source": [
    "#downloaded table from thenumbers.com website and created .csv file from the values\n",
    "\n",
    "genre_data = pd.read_csv('top-movie-genres-by-total-box-office-revenue.csv')"
   ]
  },
  {
   "cell_type": "code",
   "execution_count": null,
   "metadata": {},
   "outputs": [],
   "source": [
    "#sorting the top give genre\n",
    "\n",
    "genre_data_sorted = genre_data.head(5)\n",
    "\n",
    "#turning share into percent and adjusting float to 2 places\n",
    "genre_data_sorted['Share'] = genre_data_sorted['Share'] * 100\n",
    "genre_data_sorted.Share = genre_data_sorted.Share.round(2)"
   ]
  },
  {
   "cell_type": "code",
   "execution_count": null,
   "metadata": {},
   "outputs": [],
   "source": [
    "# turning share into percent and adjusting float to 2 places\n",
    "\n",
    "genre_data_sorted['Share'] = genre_data_sorted['Share'] * 100\n",
    "genre_data_sorted.Share = genre_data_sorted.Share.round(2)"
   ]
  },
  {
   "cell_type": "code",
   "execution_count": null,
   "metadata": {
    "scrolled": true
   },
   "outputs": [],
   "source": [
    "import matplotlib.pyplot as plt\n",
    "import numpy as np\n",
    "\n",
    "# creating x and y\n",
    "x = genre_data_sorted['Genre']\n",
    "y = genre_data_sorted['Share']\n",
    "\n",
    "# resizing & design\n",
    "fig = plt.figure(figsize=(10, 6))\n",
    "plt.rc('xtick', labelsize=12) \n",
    "plt.rc('ytick', labelsize=11)\n",
    "rfont = {'fontname':'helvetica'}\n",
    "\n",
    "# setting labels\n",
    "plt.title('Box office revenue by movie genre',**rfont, fontdict = {'fontsize' : 20, 'fontweight': 100} , pad = 20\n",
    "         )\n",
    "plt.xlabel('Genre',labelpad = 15, fontdict = {'fontsize' : 15} )\n",
    "plt.ylabel('Market share (%)', labelpad = 15, fontdict = {'fontsize' : 15})\n",
    "\n",
    "# making the bar\n",
    "genre_graph = plt.bar(x, y,color=('#0071ff'))\n",
    "\n",
    "for bar in genre_graph:\n",
    "    yval = bar.get_height()\n",
    "    plt.text(bar.get_x() + bar.get_width()/2, yval, yval, ha='center', va='bottom')\n",
    ";"
   ]
  },
  {
   "cell_type": "markdown",
   "metadata": {},
   "source": [
    "# Data Source #4 & 5\n"
   ]
  },
  {
   "cell_type": "markdown",
   "metadata": {},
   "source": [
    "### Data Scources In The\n",
    "#### Data Sourced From \n",
    "Data for this section came from the data provided from Flatiron school, MovieLens, and Kaggle.\n",
    "\n",
    "These files contain metadata for all 45,000 movies listed in the Full MovieLens Dataset. The dataset consists of movies released on or before July 2017. Data points include cast, crew, plot keywords, budget, revenue, posters, release dates, languages, production companies, countries, TMDB vote counts and vote averages."
   ]
  },
  {
   "cell_type": "code",
   "execution_count": null,
   "metadata": {},
   "outputs": [],
   "source": [
    "minfo=pd.read_csv('zippedData/rt.movie_info.tsv.gz',sep='\\t')\n",
    "reviews=pd.read_csv('zippedData/rt.reviews.tsv.gz',sep ='\\t',encoding='latin1')\n",
    "meta_data = pd.read_csv('zippedData/Meta Movie Data.zip', low_memory=False)"
   ]
  },
  {
   "cell_type": "code",
   "execution_count": null,
   "metadata": {},
   "outputs": [],
   "source": []
  },
  {
   "cell_type": "markdown",
   "metadata": {},
   "source": [
    "# Minfo Inspection"
   ]
  },
  {
   "cell_type": "code",
   "execution_count": null,
   "metadata": {},
   "outputs": [],
   "source": [
    "#A basic overview of the first 5 rows!\n",
    "minfo.head(10)"
   ]
  },
  {
   "cell_type": "code",
   "execution_count": null,
   "metadata": {},
   "outputs": [],
   "source": [
    "#checking data types\n",
    "minfo.dtypes"
   ]
  },
  {
   "cell_type": "code",
   "execution_count": null,
   "metadata": {},
   "outputs": [],
   "source": [
    "#Checking NA's in files\n",
    "minfo.isna().sum()"
   ]
  },
  {
   "cell_type": "code",
   "execution_count": null,
   "metadata": {},
   "outputs": [],
   "source": [
    "minfo.info()"
   ]
  },
  {
   "cell_type": "markdown",
   "metadata": {},
   "source": [
    "# Organizing"
   ]
  },
  {
   "cell_type": "code",
   "execution_count": null,
   "metadata": {},
   "outputs": [],
   "source": [
    "#Dropping all columns both irrelevant and littered with NA's\n",
    "minfo.drop(columns = ['synopsis', 'currency', 'dvd_date', 'theater_date'], inplace=True )\n"
   ]
  },
  {
   "cell_type": "code",
   "execution_count": null,
   "metadata": {},
   "outputs": [],
   "source": [
    "#drops na's in the subset box_office, ratnings columns\n",
    "minfo.dropna(subset = ['box_office','rating'], inplace = True)\n",
    "minfo"
   ]
  },
  {
   "cell_type": "markdown",
   "metadata": {},
   "source": [
    "# Cleaning"
   ]
  },
  {
   "cell_type": "code",
   "execution_count": null,
   "metadata": {},
   "outputs": [],
   "source": [
    "#removing string minutes\n",
    "minfo['box_office'] = minfo['box_office'].str.replace(',','')\n",
    "minfo['box_office'] = minfo['box_office'].str.replace(' ','')\n",
    "\n",
    "#converted into float\n",
    "minfo['box_office'] = minfo['box_office'].astype(float)\n",
    "\n",
    "#creating a grouped by rating variable with a median value\n",
    "minfo_ratinggrouped = minfo.groupby(by='rating').median()\n",
    "\n",
    "#indexing the value\n",
    "minfo_ratinggrouped.index\n",
    "\n",
    "#sorting the variable of minfo_ratinggrouped values in numerical order \n",
    "minfo_ratinggrouped = minfo_ratinggrouped.sort_values('box_office', ascending=False)\n",
    "\n",
    "#X values #height value\n",
    "x = minfo_ratinggrouped.index\n",
    "height = minfo_ratinggrouped['box_office']"
   ]
  },
  {
   "cell_type": "markdown",
   "metadata": {},
   "source": [
    "# Graphing"
   ]
  },
  {
   "cell_type": "code",
   "execution_count": null,
   "metadata": {},
   "outputs": [],
   "source": [
    "#adding market percentages to top and \n",
    "\n",
    "#color coding \n",
    "fig, ax=plt.subplots()\n",
    "plt.bar(x, height, width = .6, color = ['green','green','blue','blue','blue','blue'])\n",
    "ax.yaxis.set_major_formatter(StrMethodFormatter('${x:,.0f}'))\n",
    "\n",
    "ax.set_xlabel('Ratings')\n",
    "ax.set_ylabel('Box Office Average')\n",
    "ax.set_title('Ratings vs Box Office');\n",
    "plt.savefig('Ratings vs Box .png', dpi=300, bbox_inches='tight')"
   ]
  },
  {
   "cell_type": "markdown",
   "metadata": {},
   "source": [
    "# Meta Data Inspection"
   ]
  },
  {
   "cell_type": "code",
   "execution_count": null,
   "metadata": {},
   "outputs": [],
   "source": [
    "#inspecting data\n",
    "meta_data\n"
   ]
  },
  {
   "cell_type": "code",
   "execution_count": null,
   "metadata": {},
   "outputs": [],
   "source": [
    "#inspecting the information\n",
    "meta_data.info()"
   ]
  },
  {
   "cell_type": "code",
   "execution_count": null,
   "metadata": {},
   "outputs": [],
   "source": [
    "#determing what is actually valid \n",
    "meta_data.isna().sum()\n"
   ]
  },
  {
   "cell_type": "markdown",
   "metadata": {},
   "source": [
    "# Organizing"
   ]
  },
  {
   "cell_type": "code",
   "execution_count": null,
   "metadata": {},
   "outputs": [],
   "source": [
    "#dropping irrelevant columns\n",
    "meta_data.drop(columns = ['popularity','adult','genres','production_countries','original_title',\n",
    "                          'original_language','imdb_id','poster_path','production_companies','vote_count','tagline','status','spoken_languages','overview','homepage','belongs_to_collection','video','vote_count'], inplace=True )\n"
   ]
  },
  {
   "cell_type": "code",
   "execution_count": null,
   "metadata": {},
   "outputs": [],
   "source": [
    "#rename relevant columns\n",
    "meta_data.rename(columns = {'release_date':'released','title':'name','revenue':'box_office'}, inplace = True)"
   ]
  },
  {
   "cell_type": "code",
   "execution_count": null,
   "metadata": {},
   "outputs": [],
   "source": [
    "#adjustments to remove last 0's\n",
    "meta_data = meta_data.loc[(meta_data['runtime'] != 0)] \n",
    "meta_data = meta_data.loc[(meta_data['box_office'] != 0)] "
   ]
  },
  {
   "cell_type": "code",
   "execution_count": null,
   "metadata": {},
   "outputs": [],
   "source": [
    "#replacing na's in categories in box office and runtimes\n",
    "meta_data.dropna(subset = ['box_office','runtime'], inplace = True)\n",
    "meta_data"
   ]
  },
  {
   "cell_type": "code",
   "execution_count": null,
   "metadata": {},
   "outputs": [],
   "source": [
    "meta_data['box_office'] = meta_data['box_office'].astype(float)\n",
    "meta_data['box_office']"
   ]
  },
  {
   "cell_type": "code",
   "execution_count": null,
   "metadata": {},
   "outputs": [],
   "source": [
    "#runtime indexed\n",
    "meta_ratinggrouped = meta_data.groupby(by='runtime').mean()\n",
    "meta_ratinggrouped.index"
   ]
  },
  {
   "cell_type": "code",
   "execution_count": null,
   "metadata": {},
   "outputs": [],
   "source": [
    "#defining varaibles for graphing\n",
    "height2 = meta_ratinggrouped['box_office']\n",
    "xa = meta_ratinggrouped.index"
   ]
  },
  {
   "cell_type": "markdown",
   "metadata": {},
   "source": [
    "# Graphing"
   ]
  },
  {
   "cell_type": "code",
   "execution_count": null,
   "metadata": {},
   "outputs": [],
   "source": [
    "#Getting Ideal Runtime to be part\n",
    "\n",
    "fig, ax=plt.subplots()\n",
    "scatter = ax.scatter(xa, meta_ratinggrouped['box_office'],\n",
    "           alpha=.7,\n",
    "           s=200,\n",
    "           marker='*')\n",
    "\n",
    "\n",
    "#by billions 1,000,000,000\n",
    "plt.ticklabel_format(style='plain')\n",
    "\n",
    "ax.vlines(120, 250000000, ymax=300, color='red')\n",
    "ax.vlines(160, 500000000, ymax=300, color='red')\n",
    "\n",
    "ax.yaxis.set_major_formatter(StrMethodFormatter('${x:,.0f}'))\n",
    "ax.set_xlabel('Runtime')\n",
    "ax.set_ylabel('Box Office Success')\n",
    "ax.set_title('Box Office Success vs Runtime')\n",
    "ax.text(s = 'Avatar', x=200, y = 1750000000)\n",
    "ax.annotate('Ideal Runtime', xy=(150, 600000000), xytext=(160 , 800000000), arrowprops={'facecolor': 'black'});\n",
    "\n",
    "\n",
    "plt.savefig('Runtime vs Boxoffice.png', dpi=300, bbox_inches='tight')"
   ]
  },
  {
   "cell_type": "markdown",
   "metadata": {},
   "source": [
    "# Data Source #6"
   ]
  },
  {
   "cell_type": "markdown",
   "metadata": {},
   "source": [
    "### Data Source\n",
    "#### This Data WAs Sourced From\n",
    "This data was pulled from 3rd party providers of twitch data.  With some manual additions.  \n",
    "This was selected based on interest in potentail preexisting IPs Microsoft was already owning."
   ]
  },
  {
   "cell_type": "code",
   "execution_count": null,
   "metadata": {},
   "outputs": [],
   "source": [
    "## Pulling in a Found data source of twitch data.  Generated on March 8th for the last 365 days\n",
    "## Source of Data.  https://sullygnome.com/games/365/watched\n",
    "import pandas as pd\n",
    "import matplotlib.pyplot as plt\n",
    "\n",
    "twitch=pd.read_csv('zippedData/MostWatchedTwitch.csv')\n",
    "microsoftwatch=twitch[['Watch time (mins)', 'Game','Is_Microsoft_Owned']].groupby('Is_Microsoft_Owned').sum()\n",
    "height2=microsoftwatch['Watch time (mins)']/1000000000\n",
    "xa=microsoftwatch.index\n",
    "\n",
    "fig,ax=plt.subplots()\n",
    "plt.bar(xa,height2, width =.6)\n",
    "ax.set_title(\"Total Watch Time of top 50 Twitch Categories For The Last Year\")\n",
    "ax.set_ylabel('Watch Time in Billions of Hours')\n",
    "ax.set_xlabel('Ownership of Content')"
   ]
  },
  {
   "cell_type": "code",
   "execution_count": null,
   "metadata": {},
   "outputs": [],
   "source": [
    "##Graph Showing the percentage of Top Twitch Content Microsoft is about to purchase\n",
    "\n",
    "twitch=pd.read_csv('zippedData/MostWatchedTwitch.csv')\n",
    "microsoftwatch=twitch[['Watch time (mins)', 'Game','Blizzard Title']].groupby('Blizzard Title').sum()\n",
    "height2=microsoftwatch['Watch time (mins)']/1000000000\n",
    "xa=microsoftwatch.index\n",
    "\n",
    "fig,ax=plt.subplots()\n",
    "plt.bar(xa,height2, width =.6)\n",
    "ax.set_title(\"Percentage of all Twitch Watch Time In the Last Year that is Microsoft Owned Content\")\n",
    "ax.set_ylabel('Watch Time in Billions of Hours')\n",
    "ax.set_xlabel('Ownership of Content')"
   ]
  },
  {
   "cell_type": "code",
   "execution_count": null,
   "metadata": {},
   "outputs": [],
   "source": [
    "##Graph of Microsoft Owned Content Compared\n",
    "\n",
    "\n",
    "twiblizact=twitch[['Watch time (mins)', 'Game','Blizzard Title']].groupby('Blizzard Title').sum()\n",
    "\n",
    "\n",
    "height2=twiblizact['Watch time (mins)']/1000000000\n",
    "xa=twiblizact.index\n",
    "\n",
    "plt.rcParams[\"figure.figsize\"] = (10,5)\n",
    "fig,ax=plt.subplots()\n",
    "plt.bar(xa,height2, width =.6)\n",
    "ax.set_title(\"Twitch Watch Time By IP Ownership\")\n",
    "ax.set_ylabel('Watch Time in Billions of Hours')\n",
    "ax.set_xlabel('Ownership of Content')\n",
    "fig.autofmt_xdate(rotation=45)\n",
    "sns.\n",
    "\n",
    "plt.savefig('viewershipbreakdown.png', dpi=300, bbox_inches='tight')\n",
    "# the plan is that I put a smaller graph overtop of the exisiting Graph"
   ]
  },
  {
   "cell_type": "code",
   "execution_count": null,
   "metadata": {},
   "outputs": [],
   "source": [
    "twiblizact"
   ]
  },
  {
   "cell_type": "code",
   "execution_count": null,
   "metadata": {},
   "outputs": [],
   "source": [
    "import seaborn as sns\n",
    "\n",
    "\n",
    "comparingips=twitch.loc[twitch['Is_Microsoft_Owned']=='Microsoft Owned']\n",
    "\n",
    "\n",
    "fig, ax = plt.subplots(figsize=(16,10))\n",
    "\n",
    "plot=sns.barplot(x='Game', y='Watch time (mins)', data=comparingips, hue='Blizzard Title', ax=ax)\n",
    "plt.setp(plot.get_xticklabels(), rotation=45)\n",
    "ax.set_xticklabels(ax.get_xticklabels(),rotation=45,ha=\"right\",rotation_mode='anchor')\n",
    "sns.set(font_scale=1)\n",
    "plt.ticklabel_format(style='plain', axis='y')\n",
    "plt.tight_layout()\n",
    "#ax.set(xlabel='Microsoft Titles', ylabel='Watch time in Hours For The Last Year',title='Comparing Twitch Preformance')\n",
    "ax.set_xlabel('Microsoft Titles',fontsize=20)\n",
    "ax.set_ylabel('Watch time in Hours For The Last Year',fontsize=20)\n",
    "ax.axes.set_title('Comparing Twitch Preformance',fontsize=20)\n",
    "\n",
    "plt.savefig('EachIP.png', dpi=300, bbox_inches='tight')"
   ]
  }
 ],
 "metadata": {
  "kernelspec": {
   "display_name": "Python 3",
   "language": "python",
   "name": "python3"
  },
  "language_info": {
   "codemirror_mode": {
    "name": "ipython",
    "version": 3
   },
   "file_extension": ".py",
   "mimetype": "text/x-python",
   "name": "python",
   "nbconvert_exporter": "python",
   "pygments_lexer": "ipython3",
   "version": "3.8.5"
  }
 },
 "nbformat": 4,
 "nbformat_minor": 2
}
