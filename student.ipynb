{
 "cells": [
  {
   "cell_type": "markdown",
   "metadata": {},
   "source": [
    "## Final Project Submission\n",
    "\n",
    "Please fill out:\n",
    "* Student name: \n",
    "* Student pace: self paced / part time / full time\n",
    "* Scheduled project review date/time: \n",
    "* Instructor name: \n",
    "* Blog post URL:\n"
   ]
  },
  {
   "cell_type": "code",
   "execution_count": null,
   "metadata": {},
   "outputs": [],
   "source": [
    "# Your code here - remember to use markdown cells for comments as well!"
   ]
  },
  {
   "cell_type": "code",
   "execution_count": null,
   "metadata": {},
   "outputs": [],
   "source": [
    "VGcon=pd.read_csv('zippedData/Videogameconversion.csv')\n",
    "VGcon['Worldwide box office'] = VGcon['Worldwide box office'].str.replace('$', '',regex=True)\n",
    "VGcon['Worldwide box office'] = VGcon['Worldwide box office'].str.replace(',', '',regex=True)\n",
    "VGcon['Worldwide box office'] = VGcon['Worldwide box office'].astype('int')\n",
    "VGcon=VGcon.drop(['Unnamed: 7', 'Unnamed: 8', 'Unnamed: 9', 'Unnamed: 10'], axis=1)\n",
    "VGcon=VGcon.dropna()"
   ]
  },
  {
   "cell_type": "code",
   "execution_count": null,
   "metadata": {},
   "outputs": [],
   "source": [
    "\n",
    "twitch=pd.read_csv('zippedData/MostWatchedTwitch.csv')\n",
    "microsoftwatch=twitch[['Watch time (mins)', 'Game','Is_Microsoft_Owned']].groupby('Is_Microsoft_Owned').sum()\n",
    "height2=microsoftwatch['Watch time (mins)']/1000000000\n",
    "xa=microsoftwatch.index\n",
    "\n",
    "fig,ax=plt.subplots()\n",
    "plt.bar(xa,height2, width =.6)\n",
    "ax.set_title(\"Total Watch Time of top 50 Twitch Categories For The Last Year\")\n",
    "ax.set_ylabel('Watch Time in Billions of Hours')\n",
    "ax.set_xlabel('Ownership of Content')\n",
    "\n"
   ]
  }
 ],
 "metadata": {
  "kernelspec": {
   "display_name": "Python 3",
   "language": "python",
   "name": "python3"
  },
  "language_info": {
   "codemirror_mode": {
    "name": "ipython",
    "version": 3
   },
   "file_extension": ".py",
   "mimetype": "text/x-python",
   "name": "python",
   "nbconvert_exporter": "python",
   "pygments_lexer": "ipython3",
   "version": "3.8.5"
  }
 },
 "nbformat": 4,
 "nbformat_minor": 2
}
